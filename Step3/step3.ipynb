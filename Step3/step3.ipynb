{
 "metadata": {
  "language_info": {
   "codemirror_mode": {
    "name": "ipython",
    "version": 3
   },
   "file_extension": ".py",
   "mimetype": "text/x-python",
   "name": "python",
   "nbconvert_exporter": "python",
   "pygments_lexer": "ipython3",
   "version": "3.8.5-final"
  },
  "orig_nbformat": 2,
  "kernelspec": {
   "name": "Python 3.8.5 64-bit ('deformation': conda)",
   "display_name": "Python 3.8.5 64-bit ('deformation': conda)",
   "metadata": {
    "interpreter": {
     "hash": "7b087a9de609195e469fc572dba8d42773218cb68f46e0c0a72ee480da17c20d"
    }
   }
  }
 },
 "nbformat": 4,
 "nbformat_minor": 2,
 "cells": [
  {
   "cell_type": "code",
   "execution_count": 12,
   "metadata": {},
   "outputs": [],
   "source": [
    "import scipy.io as sio\n",
    "import mat73\n",
    "import numpy as np\n",
    "import sys \n",
    "import os"
   ]
  },
  {
   "cell_type": "code",
   "execution_count": 13,
   "metadata": {},
   "outputs": [],
   "source": [
    "def reconstruction_3D(dlt1, dlt2, dic2d):\n",
    "    dlt1_mat = sio.loadmat(os.path.join(os.getcwd(), dlt1))\n",
    "    dlt2_mat = sio.loadmat(os.path.join(os.getcwd(), dlt2))\n",
    "    dltk = dlt1_mat['DLTstructCam']['DLTparams'][0][0] #the 11 dlt parameters for cam1 in matricx\n",
    "    dltl = dlt2_mat['DLTstructCam']['DLTparams'][0][0] #the 11 dlt parameters for cam2 in matricx, and turn it in a float array\n",
    "\n",
    "    dic2d = mat73.loadmat(os.path.join(os.getcwd(), dic2d) )\n",
    "    dic2d_K = dic2d['DIC2DpairResults']['Points'][:5]\n",
    "    dic2d_L = dic2d['DIC2DpairResults']['Points'][5:]\n",
    "\n",
    "    p = []\n",
    "    for j in range(len(dic2d_K)): \n",
    "        point = []\n",
    "        dic2d_k = dic2d_K[j][0]\n",
    "        dic2d_l = dic2d_L[j][0]\n",
    "        for i in range(len(dic2d_k)):\n",
    "            try:\n",
    "                u = np.array([ [dic2d_k[i][0] - dltk[3]],\n",
    "                                [dic2d_k[i][1] - dltk[7]],\n",
    "                                [dic2d_l[i][0] - dltl[3]],\n",
    "                                [dic2d_l[i][1] - dltl[7]] ])\n",
    "                a = np.array([ [ dltk[0] - dltk[8]*dic2d_k[i][0], dltk[1] - dltk[9]*dic2d_k[i][0], dltk[2] - dltk[10]*dic2d_k[i][0] ],\n",
    "                                [ dltk[4] - dltk[8]*dic2d_k[i][1], dltk[5] - dltk[9]*dic2d_k[i][1], dltk[6] - dltk[10]*dic2d_k[i][1] ],\n",
    "                                [ dltl[0] - dltl[8]*dic2d_l[i][0], dltl[1] - dltl[9]*dic2d_l[i][0], dltl[2] - dltl[10]*dic2d_l[i][0] ],\n",
    "                                [ dltl[4] - dltl[8]*dic2d_l[i][1], dltl[5] - dltl[9]*dic2d_l[i][1], dltl[6] - dltl[10]*dic2d_l[i][1] ], ])\n",
    "                u = np.reshape(u, (4,1))\n",
    "                a = np.reshape(a, (4,3))\n",
    "                at = a.T\n",
    "                tem = np.dot(at, a)\n",
    "                tem1 = np.dot(np.linalg.inv(tem), a.T)\n",
    "                p_3d = np.dot(tem1,u)\n",
    "                point.append(p_3d)\n",
    "            except:\n",
    "                point.append(np.array([None,None,None]))\n",
    "        p.append(point)\n",
    "    return(p)"
   ]
  },
  {
   "cell_type": "code",
   "execution_count": 14,
   "metadata": {},
   "outputs": [],
   "source": [
    "p = reconstruction_3D('DLTstruct_cam_201.mat', 'DLTstruct_cam_202.mat', 'DIC2DpairResults_C_201_C_202.mat')"
   ]
  },
  {
   "cell_type": "code",
   "execution_count": 15,
   "metadata": {},
   "outputs": [
    {
     "output_type": "execute_result",
     "data": {
      "text/plain": [
       "5"
      ]
     },
     "metadata": {},
     "execution_count": 15
    }
   ],
   "source": [
    "len(p)"
   ]
  },
  {
   "cell_type": "code",
   "execution_count": 16,
   "metadata": {},
   "outputs": [
    {
     "output_type": "stream",
     "name": "stdout",
     "text": [
      "   X            Y            Z\n[1.03606647] [2.0493587] [248.61606988]\n \n[1.01152849] [2.00633397] [247.68134727]\n \n[1.0110167] [2.03033205] [246.66231736]\n \n[1.03222457] [2.08106987] [245.6553864]\n \n[1.05720863] [2.14498293] [244.6287584]\n \n[1.06318622] [2.18633486] [243.58970968]\n \n[1.03688722] [2.16951011] [242.58022776]\n \n[1.03486627] [2.19421063] [241.55450174]\n \n[1.02880183] [2.2118932] [240.53187003]\n \n[0.98863017] [2.17340755] [239.52624621]\n \n[0.97564001] [2.16022093] [238.55599412]\n \n[0.92836019] [2.1151945] [237.54039544]\n \n[0.92385788] [2.13257712] [236.52411344]\n \n[0.86952216] [2.0690244] [235.528859]\n \n[0.80079482] [1.97233086] [234.56332127]\n \n[0.95487501] [2.26706825] [233.43274136]\n \n[0.97522352] [2.31372194] [232.4341851]\n \n[0.93649638] [2.28375852] [231.41218054]\n \n[0.99854069] [2.43152185] [230.31594552]\n \n[0.98802332] [2.45251076] [229.27103948]\n \n"
     ]
    }
   ],
   "source": [
    "print('   X            Y            Z')\n",
    "for i in p[0][:20]:\n",
    "    print(i[0], i[1], i[2])\n",
    "    print(' ')"
   ]
  },
  {
   "cell_type": "code",
   "execution_count": 17,
   "metadata": {},
   "outputs": [],
   "source": [
    "def corrComb(dic2d):\n",
    "    dic2d = mat73.loadmat(os.path.join(os.getcwd(),dic2d))\n",
    "    k_corr = dic2d['DIC2DpairResults']['CorCoeffVec'][:5]\n",
    "    l_corr = dic2d['DIC2DpairResults']['CorCoeffVec'][5:]\n",
    "    corrComb = []\n",
    "    for i in range(len(k_corr)):\n",
    "        tem = []\n",
    "        for j in range(len(k_corr[i][0])):\n",
    "            k = k_corr[i][0]\n",
    "            l = l_corr[i][0]\n",
    "            cor = max(k[j], l[j])\n",
    "            tem.append(cor)\n",
    "        corrComb.append(tem)\n",
    "    return(corrComb)"
   ]
  },
  {
   "cell_type": "code",
   "execution_count": 18,
   "metadata": {},
   "outputs": [
    {
     "output_type": "stream",
     "name": "stdout",
     "text": [
      "5\n"
     ]
    }
   ],
   "source": [
    "corr = corrComb('DIC2DpairResults_C_201_C_202.mat')\n",
    "print(len(corr))"
   ]
  },
  {
   "cell_type": "code",
   "execution_count": 19,
   "metadata": {},
   "outputs": [
    {
     "output_type": "stream",
     "name": "stdout",
     "text": [
      "1.6060218832135194\n1.6105683120471774\n1.608702157923486\n1.5770957549161562\n1.5422585639567723\n1.5014034804986522\n1.4967012763570755\n1.4921421464399902\n1.490811801104905\n1.4759166586612957\n"
     ]
    }
   ],
   "source": [
    "for i in corr[0][:10]:\n",
    "     print(i)"
   ]
  },
  {
   "cell_type": "code",
   "execution_count": 20,
   "metadata": {},
   "outputs": [],
   "source": [
    "def faceReturn(dic2d):\n",
    "    dic2d = mat73.loadmat(os.path.join(os.getcwd(),dic2d))\n",
    "    face = dic2d['DIC2DpairResults']['Faces']\n",
    "    return(face)"
   ]
  },
  {
   "cell_type": "code",
   "execution_count": 21,
   "metadata": {},
   "outputs": [
    {
     "output_type": "stream",
     "name": "stdout",
     "text": [
      "13368\n"
     ]
    }
   ],
   "source": [
    "face = faceReturn('DIC2DpairResults_C_201_C_202.mat')\n",
    "print(len(face))"
   ]
  },
  {
   "cell_type": "code",
   "execution_count": 22,
   "metadata": {},
   "outputs": [
    {
     "output_type": "stream",
     "name": "stdout",
     "text": [
      "[610. 338. 339.]\n[4958. 4957. 4689.]\n[2248. 1977. 1978.]\n[2210. 2211. 2480.]\n[2011. 2282. 2281.]\n[1021. 1022. 1293.]\n[4496. 4228. 4497.]\n[2469. 2468. 2199.]\n[  7. 279. 278.]\n[323.  52. 324.]\n"
     ]
    }
   ],
   "source": [
    "for i in face[:10]:\n",
    "    print(i)"
   ]
  }
 ]
}