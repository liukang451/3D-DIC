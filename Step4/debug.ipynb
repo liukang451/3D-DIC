{
 "cells": [
  {
   "cell_type": "code",
   "execution_count": 1,
   "metadata": {},
   "outputs": [
    {
     "name": "stdout",
     "output_type": "stream",
     "text": [
      "Points A\n",
      "[[0.23799564 0.54122062 0.1064581  0.85302337 0.23278242 0.16491722\n",
      "  0.7163607  0.0228284  0.16114075 0.84832998]\n",
      " [0.42691851 0.48422478 0.83152716 0.64128146 0.99613637 0.16410261\n",
      "  0.01959253 0.24674879 0.24666136 0.08618707]\n",
      " [0.48177331 0.997357   0.52684765 0.46619193 0.58988058 0.33294544\n",
      "  0.4504468  0.14366469 0.62787923 0.98440047]]\n",
      "\n",
      "Points B\n",
      "[[0.75528606 1.07639213 0.41141621 1.04366257 0.41061404 0.83346967\n",
      "  1.34878096 0.6262802  0.85999528 1.54852705]\n",
      " [1.05938033 1.33603665 1.27577808 1.62698586 1.48623649 0.8058843\n",
      "  1.07251117 0.76100246 0.88329638 1.24332179]\n",
      " [0.96151935 1.38743966 1.09556233 0.82325757 1.14784795 0.79968773\n",
      "  0.753384   0.66587829 1.09484855 1.24111597]]\n",
      "\n",
      "Ground truth rotation\n",
      "[[ 0.70346284 -0.65256029  0.28161161]\n",
      " [ 0.66513888  0.74408233  0.06270373]\n",
      " [-0.25046019  0.14320109  0.95747749]]\n",
      "Recovered rotation\n",
      "[[ 0.70346284 -0.65256029  0.28161161]\n",
      " [ 0.66513888  0.74408233  0.06270373]\n",
      " [-0.25046019  0.14320109  0.95747749]]\n",
      "\n",
      "Ground truth translation\n",
      "[[0.73078208]\n",
      " [0.55320867]\n",
      " [0.49870549]]\n",
      "Recovered translation\n",
      "[[0.73078208]\n",
      " [0.55320867]\n",
      " [0.49870549]]\n",
      "\n",
      "RMSE: 2.8522145930998397e-16\n",
      "Everything looks good!\n",
      "\n"
     ]
    }
   ],
   "source": [
    "# %load test_rigid_transform_3D.py\n",
    "#!/usr/bin/env python3\n",
    "\n",
    "from numpy import *\n",
    "from math import sqrt\n",
    "\n",
    "from rigid_transform_3D import rigid_transform_3D\n",
    "\n",
    "# Test with random data\n",
    "\n",
    "# Random rotation and translation\n",
    "R = mat(random.rand(3,3))\n",
    "t = mat(random.rand(3,1))\n",
    "\n",
    "# make R a proper rotation matrix, force orthonormal\n",
    "U, S, Vt = linalg.svd(R)\n",
    "R = U*Vt\n",
    "\n",
    "# remove reflection\n",
    "if linalg.det(R) < 0:\n",
    "   Vt[2,:] *= -1\n",
    "   R = U*Vt\n",
    "\n",
    "# number of points\n",
    "n = 10\n",
    "\n",
    "# A = mat(random.rand(3, n));\n",
    "A = array(random.rand(3, n));\n",
    "B = R*A + tile(t, (1, n))\n",
    "\n",
    "# Recover R and t\n",
    "ret_R, ret_t = rigid_transform_3D(A, B)\n",
    "\n",
    "# Compare the recovered R and t with the original\n",
    "B2 = (ret_R*A) + tile(ret_t, (1, n))\n",
    "\n",
    "# Find the root mean squared error\n",
    "err = B2 - B\n",
    "err = multiply(err, err)\n",
    "err = sum(err)\n",
    "rmse = sqrt(err/n);\n",
    "\n",
    "print(\"Points A\")\n",
    "print(A)\n",
    "print(\"\")\n",
    "\n",
    "print(\"Points B\")\n",
    "print(B)\n",
    "print(\"\")\n",
    "\n",
    "print(\"Ground truth rotation\")\n",
    "print(R)\n",
    "\n",
    "print(\"Recovered rotation\")\n",
    "print(ret_R)\n",
    "print(\"\")\n",
    "\n",
    "print(\"Ground truth translation\")\n",
    "print(t)\n",
    "\n",
    "print(\"Recovered translation\")\n",
    "print(ret_t)\n",
    "print(\"\")\n",
    "\n",
    "print(\"RMSE:\", rmse)\n",
    "\n",
    "if rmse < 1e-5:\n",
    "    print(\"Everything looks good!\\n\");\n",
    "else:\n",
    "    print(\"Hmm something doesn't look right ...\\n\");\n"
   ]
  },
  {
   "cell_type": "code",
   "execution_count": 2,
   "metadata": {},
   "outputs": [
    {
     "data": {
      "text/plain": [
       "matrix([[0.73078208],\n",
       "        [0.55320867],\n",
       "        [0.49870549]])"
      ]
     },
     "execution_count": 2,
     "metadata": {},
     "output_type": "execute_result"
    }
   ],
   "source": [
    "ret_t"
   ]
  },
  {
   "cell_type": "code",
   "execution_count": 3,
   "metadata": {},
   "outputs": [],
   "source": [
    "from numpy import *\n",
    "from math import sqrt\n"
   ]
  },
  {
   "cell_type": "code",
   "execution_count": 4,
   "metadata": {},
   "outputs": [],
   "source": [
    "# number of points\n",
    "n = 10\n",
    "# Random rotation and translation\n",
    "R = mat(random.rand(3,3))\n",
    "t = mat(random.rand(3,1))\n",
    "# make R a proper rotation matrix, force orthonormal\n",
    "U, S, Vt = linalg.svd(R)\n",
    "R = U*Vt\n",
    "\n",
    "A = array(random.rand(3, n));\n",
    "B = R*A + tile(t, (1, n))"
   ]
  },
  {
   "cell_type": "code",
   "execution_count": 23,
   "metadata": {},
   "outputs": [
    {
     "data": {
      "text/plain": [
       "-0.9999999999999994"
      ]
     },
     "execution_count": 23,
     "metadata": {},
     "output_type": "execute_result"
    }
   ],
   "source": [
    "linalg.det(U*Vt)"
   ]
  },
  {
   "cell_type": "code",
   "execution_count": 24,
   "metadata": {},
   "outputs": [
    {
     "name": "stdout",
     "output_type": "stream",
     "text": [
      "[[-0.12520083  0.59492912  0.79396731]\n",
      " [ 0.20204427  0.79878333 -0.56667743]\n",
      " [ 0.97134076 -0.08946806  0.22021036]]\n",
      "[[-0.12520083  0.20204427  0.97134076]\n",
      " [ 0.59492912  0.79878333 -0.08946806]\n",
      " [ 0.79396731 -0.56667743  0.22021036]]\n"
     ]
    }
   ],
   "source": [
    "print(R)\n",
    "print(Vt.T * U.T)"
   ]
  },
  {
   "cell_type": "code",
   "execution_count": 5,
   "metadata": {
    "scrolled": true
   },
   "outputs": [
    {
     "name": "stdout",
     "output_type": "stream",
     "text": [
      "shape of a is: (3, 10) b: (3, 10)\n",
      "<class 'numpy.ndarray'>\n",
      "<class 'numpy.matrix'>\n"
     ]
    }
   ],
   "source": [
    "print(\"shape of a is:\",A.shape, \"b:\",B.shape)\n",
    "print(type(A))\n",
    "print(type(B))"
   ]
  },
  {
   "cell_type": "code",
   "execution_count": 6,
   "metadata": {},
   "outputs": [],
   "source": [
    "# try run rigid_t here------------------------\n",
    "# find mean column wise\n",
    "centroid_A = mean(A, axis=1)# 1: row\n",
    "centroid_B = mean(B, axis=1)\n"
   ]
  },
  {
   "cell_type": "code",
   "execution_count": 7,
   "metadata": {},
   "outputs": [
    {
     "name": "stdout",
     "output_type": "stream",
     "text": [
      "shape of a is: (3,) b: (3, 1)\n",
      "[0.40183286 0.59000793 0.50856446]\n",
      "[[1.40736467]\n",
      " [1.11049891]\n",
      " [0.47682378]]\n"
     ]
    }
   ],
   "source": [
    "print(\"shape of a is:\",centroid_A.shape, \"b:\",centroid_B.shape)\n",
    "print(centroid_A)\n",
    "print(centroid_B)"
   ]
  },
  {
   "cell_type": "code",
   "execution_count": 38,
   "metadata": {},
   "outputs": [
    {
     "data": {
      "text/plain": [
       "0.5001350855093033"
      ]
     },
     "execution_count": 38,
     "metadata": {},
     "output_type": "execute_result"
    }
   ],
   "source": [
    "AM = (1/(A.shape[0]*A.shape[1]))*sum(A)\n",
    "AM"
   ]
  },
  {
   "cell_type": "code",
   "execution_count": 39,
   "metadata": {},
   "outputs": [
    {
     "data": {
      "text/plain": [
       "15.004052565279098"
      ]
     },
     "execution_count": 39,
     "metadata": {},
     "output_type": "execute_result"
    }
   ],
   "source": [
    "sum(A)"
   ]
  },
  {
   "cell_type": "code",
   "execution_count": 43,
   "metadata": {},
   "outputs": [
    {
     "data": {
      "text/plain": [
       "numpy.ndarray"
      ]
     },
     "execution_count": 43,
     "metadata": {},
     "output_type": "execute_result"
    }
   ],
   "source": [
    "type(A)"
   ]
  },
  {
   "cell_type": "code",
   "execution_count": 40,
   "metadata": {},
   "outputs": [
    {
     "data": {
      "text/plain": [
       "array([0.40183286, 0.59000793, 0.50856446])"
      ]
     },
     "execution_count": 40,
     "metadata": {},
     "output_type": "execute_result"
    }
   ],
   "source": [
    "mean(A, axis=1)"
   ]
  },
  {
   "cell_type": "code",
   "execution_count": 42,
   "metadata": {},
   "outputs": [
    {
     "data": {
      "text/plain": [
       "matrix([[0.87479917, 1.59492912, 1.79396731],\n",
       "        [1.20204427, 1.79878333, 0.43332257],\n",
       "        [1.97134076, 0.91053194, 1.22021036]])"
      ]
     },
     "execution_count": 42,
     "metadata": {},
     "output_type": "execute_result"
    }
   ],
   "source": [
    "R*1+1"
   ]
  },
  {
   "cell_type": "code",
   "execution_count": null,
   "metadata": {},
   "outputs": [],
   "source": []
  },
  {
   "cell_type": "code",
   "execution_count": null,
   "metadata": {},
   "outputs": [],
   "source": []
  }
 ],
 "metadata": {
  "kernelspec": {
   "display_name": "Python 3",
   "language": "python",
   "name": "python3"
  },
  "language_info": {
   "codemirror_mode": {
    "name": "ipython",
    "version": 3
   },
   "file_extension": ".py",
   "mimetype": "text/x-python",
   "name": "python",
   "nbconvert_exporter": "python",
   "pygments_lexer": "ipython3",
   "version": "3.7.6"
  }
 },
 "nbformat": 4,
 "nbformat_minor": 4
}
