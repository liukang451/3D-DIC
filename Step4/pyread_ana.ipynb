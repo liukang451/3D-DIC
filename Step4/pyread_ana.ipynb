{
 "cells": [
  {
   "cell_type": "code",
   "execution_count": 1,
   "metadata": {},
   "outputs": [],
   "source": [
    "import mat73\n",
    "import numpy as np\n",
    "from rigid_transform_3D import rigid_transform_3D"
   ]
  },
  {
   "cell_type": "code",
   "execution_count": 2,
   "metadata": {},
   "outputs": [],
   "source": [
    "data_dict = mat73.loadmat('sample.mat')"
   ]
  },
  {
   "cell_type": "code",
   "execution_count": 3,
   "metadata": {},
   "outputs": [
    {
     "data": {
      "text/plain": [
       "dict_keys(['DIC3DPPresults'])"
      ]
     },
     "execution_count": 3,
     "metadata": {},
     "output_type": "execute_result"
    }
   ],
   "source": [
    "data_dict.keys()"
   ]
  },
  {
   "cell_type": "code",
   "execution_count": 4,
   "metadata": {},
   "outputs": [
    {
     "data": {
      "text/plain": [
       "dict_keys(['AllPairsResults', 'DIC2Dinfo', 'Deform', 'Deform_ARBM', 'Disp', 'FaceCentroids', 'FaceCentroids_ARBM', 'FaceColors', 'FaceCorrComb', 'FaceIsoInd', 'FacePairInds', 'Faces', 'PointPairInds', 'Points3D', 'Points3D_ARBM', 'RBM', 'calibration', 'corrComb', 'distortion', 'pairIndices'])"
      ]
     },
     "execution_count": 4,
     "metadata": {},
     "output_type": "execute_result"
    }
   ],
   "source": [
    "data_dict['DIC3DPPresults'].keys()"
   ]
  },
  {
   "cell_type": "code",
   "execution_count": 5,
   "metadata": {},
   "outputs": [
    {
     "data": {
      "text/plain": [
       "(13368, 3)"
      ]
     },
     "execution_count": 5,
     "metadata": {},
     "output_type": "execute_result"
    }
   ],
   "source": [
    "data_dict['DIC3DPPresults']['Faces'].shape"
   ]
  },
  {
   "cell_type": "code",
   "execution_count": 6,
   "metadata": {},
   "outputs": [],
   "source": [
    "facesPy = data_dict['DIC3DPPresults']['Faces'][:10]"
   ]
  },
  {
   "cell_type": "code",
   "execution_count": 7,
   "metadata": {},
   "outputs": [
    {
     "data": {
      "text/plain": [
       "(10, 3)"
      ]
     },
     "execution_count": 7,
     "metadata": {},
     "output_type": "execute_result"
    }
   ],
   "source": [
    "facesPy.shape"
   ]
  },
  {
   "cell_type": "code",
   "execution_count": 8,
   "metadata": {},
   "outputs": [
    {
     "data": {
      "text/plain": [
       "array([4958., 4957., 4689.])"
      ]
     },
     "execution_count": 8,
     "metadata": {},
     "output_type": "execute_result"
    }
   ],
   "source": [
    "facesPy[1]\n",
    "# an array with float numbers, int needed"
   ]
  },
  {
   "cell_type": "code",
   "execution_count": 9,
   "metadata": {},
   "outputs": [
    {
     "data": {
      "text/plain": [
       "array([4958, 4957, 4689])"
      ]
     },
     "execution_count": 9,
     "metadata": {},
     "output_type": "execute_result"
    }
   ],
   "source": [
    "facesPyInt = facesPy.astype(int)\n",
    "facesPyInt[1]\n",
    "# got int array"
   ]
  },
  {
   "cell_type": "code",
   "execution_count": 10,
   "metadata": {},
   "outputs": [],
   "source": [
    "#sync load file\n",
    "DIC3D = data_dict['DIC3DPPresults']\n",
    "#[todo] save results"
   ]
  },
  {
   "cell_type": "code",
   "execution_count": 11,
   "metadata": {},
   "outputs": [
    {
     "data": {
      "text/plain": [
       "5"
      ]
     },
     "execution_count": 11,
     "metadata": {},
     "output_type": "execute_result"
    }
   ],
   "source": [
    "#get number of images\n",
    "nImages = len(DIC3D['Points3D']) # DIC3D['Points3D'] is a list\n",
    "nImages"
   ]
  },
  {
   "cell_type": "code",
   "execution_count": 12,
   "metadata": {},
   "outputs": [
    {
     "data": {
      "text/plain": [
       "6978"
      ]
     },
     "execution_count": 12,
     "metadata": {},
     "output_type": "execute_result"
    }
   ],
   "source": [
    "#DIC3D['Points3D'] is a list of 5 arrays\n",
    "#DIC3D['Points3D'][0] is a list of 1 array, stand for a image\n",
    "#DIC3D['Points3D'][0][0] is a list sized 6978 in this case\n",
    "len(DIC3D['Points3D'][0][0])"
   ]
  },
  {
   "cell_type": "code",
   "execution_count": 13,
   "metadata": {},
   "outputs": [],
   "source": [
    "#pre-allocate 3D-DIC result variables\n",
    "Points3D_ARBM=[]\n",
    "Disp_DispVec=[]\n",
    "Disp_DispMgn=[]\n",
    "Disp_DispVec_ARBM=[]\n",
    "Disp_DispMgn_ARBM=[]\n",
    "FaceCentroids=[]\n",
    "FaceCentroids_ARBM=[]\n",
    "FaceCorrComb=[]\n",
    "FaceIsoInd=[]\n",
    "RBM_otMat=[]\n",
    "RBM_ransVec=[]"
   ]
  },
  {
   "cell_type": "code",
   "execution_count": 14,
   "metadata": {},
   "outputs": [],
   "source": [
    "#Calculating displacements and rigid body motion\n",
    "FaceCorrComb=[] #init, or it will append with no limit\n",
    "FaceCentroids=[None]*nImages # declare it with size\n",
    "Disp_DispVec=[]\n",
    "Disp_DispMgn=[]\n",
    "\n",
    "for image in range(nImages):\n",
    "    #Face correlation coefficient (worst)\n",
    "    FaceCorrComb.append(np.amax(DIC3D['corrComb'][image][0][facesPyInt-1],1))# find max in each row\n",
    "    #Compute face centroids\n",
    "    means = []\n",
    "    for ifaces in range(facesPy.shape[0]):# in shorted version will be 10, full will be 13368  \n",
    "        meanOfEachLine = data_dict['DIC3DPPresults']['Points3D'][image][0][facesPyInt[ifaces,:]-1].mean(axis = 0)\n",
    "        means.append(meanOfEachLine)\n",
    "        FaceCentroids[image] = means\n",
    "    #Compute displacements between frames (per point)\n",
    "    DispVec = data_dict['DIC3DPPresults']['Points3D'][image][0] - data_dict['DIC3DPPresults']['Points3D'][0][0]\n",
    "    Disp_DispVec.append(DispVec)\n",
    "    Disp_DispMgn.append(np.sqrt(DispVec[:,0]**2 + DispVec[:,1]**2 + DispVec[:,2]**2))\n",
    "    \n",
    "    #Compute rigid body transformation between point clouds\n",
    "    \n"
   ]
  },
  {
   "cell_type": "code",
   "execution_count": null,
   "metadata": {},
   "outputs": [],
   "source": [
    "#########################################################################\n",
    "#############################draft#############################"
   ]
  },
  {
   "cell_type": "code",
   "execution_count": 15,
   "metadata": {},
   "outputs": [
    {
     "ename": "Exception",
     "evalue": "matrix A is not 3xN, it is 6978x3",
     "output_type": "error",
     "traceback": [
      "\u001b[1;31m---------------------------------------------------------------------------\u001b[0m",
      "\u001b[1;31mException\u001b[0m                                 Traceback (most recent call last)",
      "\u001b[1;32m<ipython-input-15-ec974186df03>\u001b[0m in \u001b[0;36m<module>\u001b[1;34m()\u001b[0m\n\u001b[0;32m      3\u001b[0m [RotMat,TransVec] = rigid_transform_3D(\n\u001b[0;32m      4\u001b[0m                     \u001b[0mdata_dict\u001b[0m\u001b[1;33m[\u001b[0m\u001b[1;34m'DIC3DPPresults'\u001b[0m\u001b[1;33m]\u001b[0m\u001b[1;33m[\u001b[0m\u001b[1;34m'Points3D'\u001b[0m\u001b[1;33m]\u001b[0m\u001b[1;33m[\u001b[0m\u001b[1;36m1\u001b[0m\u001b[1;33m]\u001b[0m\u001b[1;33m[\u001b[0m\u001b[1;36m0\u001b[0m\u001b[1;33m]\u001b[0m\u001b[1;33m,\u001b[0m\u001b[1;33m\u001b[0m\u001b[1;33m\u001b[0m\u001b[0m\n\u001b[1;32m----> 5\u001b[1;33m                     data_dict['DIC3DPPresults']['Points3D'][0][0])\n\u001b[0m",
      "\u001b[1;32mD:\\OneDrive - The University of Western Australia\\CITS3200 Professional Computing\\rigid_transform_3D.py\u001b[0m in \u001b[0;36mrigid_transform_3D\u001b[1;34m(A, B)\u001b[0m\n\u001b[0;32m     16\u001b[0m \u001b[1;33m\u001b[0m\u001b[0m\n\u001b[0;32m     17\u001b[0m     \u001b[1;32mif\u001b[0m \u001b[0mnum_rows\u001b[0m \u001b[1;33m!=\u001b[0m \u001b[1;36m3\u001b[0m\u001b[1;33m:\u001b[0m\u001b[1;33m\u001b[0m\u001b[1;33m\u001b[0m\u001b[0m\n\u001b[1;32m---> 18\u001b[1;33m         \u001b[1;32mraise\u001b[0m \u001b[0mException\u001b[0m\u001b[1;33m(\u001b[0m\u001b[1;34m\"matrix A is not 3xN, it is {}x{}\"\u001b[0m\u001b[1;33m.\u001b[0m\u001b[0mformat\u001b[0m\u001b[1;33m(\u001b[0m\u001b[0mnum_rows\u001b[0m\u001b[1;33m,\u001b[0m \u001b[0mnum_cols\u001b[0m\u001b[1;33m)\u001b[0m\u001b[1;33m)\u001b[0m\u001b[1;33m\u001b[0m\u001b[1;33m\u001b[0m\u001b[0m\n\u001b[0m\u001b[0;32m     19\u001b[0m \u001b[1;33m\u001b[0m\u001b[0m\n\u001b[0;32m     20\u001b[0m     \u001b[1;33m[\u001b[0m\u001b[0mnum_rows\u001b[0m\u001b[1;33m,\u001b[0m \u001b[0mnum_cols\u001b[0m\u001b[1;33m]\u001b[0m \u001b[1;33m=\u001b[0m \u001b[0mB\u001b[0m\u001b[1;33m.\u001b[0m\u001b[0mshape\u001b[0m\u001b[1;33m;\u001b[0m\u001b[1;33m\u001b[0m\u001b[1;33m\u001b[0m\u001b[0m\n",
      "\u001b[1;31mException\u001b[0m: matrix A is not 3xN, it is 6978x3"
     ]
    }
   ],
   "source": [
    "#Compute rigid body transformation between point clouds\n",
    "#error message: matrix A is not 3xN, it is 6978x3\n",
    "[RotMat,TransVec] = rigid_transform_3D(\n",
    "                    data_dict['DIC3DPPresults']['Points3D'][1][0],\n",
    "                    data_dict['DIC3DPPresults']['Points3D'][0][0])"
   ]
  },
  {
   "cell_type": "code",
   "execution_count": 27,
   "metadata": {},
   "outputs": [],
   "source": [
    "#change row & column\n",
    "argA = data_dict['DIC3DPPresults']['Points3D'][1][0]\n",
    "argA = argA.transpose()\n",
    "argB = data_dict['DIC3DPPresults']['Points3D'][0][0]\n",
    "argB = argB.transpose()"
   ]
  },
  {
   "cell_type": "code",
   "execution_count": 17,
   "metadata": {},
   "outputs": [],
   "source": [
    "# try run rigid_t here------------------------\n",
    "# find mean column wise\n",
    "centroid_A = np.mean(argA, axis=1)#array([  2.86630865,  30.67735677, 120.55570519])\n",
    "centroid_B = np.mean(argB, axis=1)#array([  0.64130487,  25.41937206, 119.06233202]) 1*3 shape"
   ]
  },
  {
   "cell_type": "code",
   "execution_count": 18,
   "metadata": {},
   "outputs": [],
   "source": [
    "# ensure centroids are 3x1 (necessary when A or B are\n",
    "# numpy arrays instead of numpy matrices)\n",
    "centroid_A = centroid_A.reshape(-1, 1) # to 3*1 shape\n",
    "centroid_B = centroid_B.reshape(-1, 1)"
   ]
  },
  {
   "cell_type": "code",
   "execution_count": 19,
   "metadata": {},
   "outputs": [],
   "source": [
    "num_rows, num_cols = argA.shape;\n",
    "# subtract mean\n",
    "Am = argA - np.tile(centroid_A, (1, num_cols))\n",
    "Bm = argB - np.tile(centroid_B, (1, num_cols))"
   ]
  },
  {
   "cell_type": "code",
   "execution_count": 20,
   "metadata": {},
   "outputs": [],
   "source": [
    "H = np.dot(Am,np.transpose(Bm))"
   ]
  },
  {
   "cell_type": "code",
   "execution_count": 32,
   "metadata": {},
   "outputs": [],
   "source": [
    "# find rotation\n",
    "U, S, Vt = np.linalg.svd(H)\n",
    "R = Vt.T * U.T"
   ]
  },
  {
   "cell_type": "code",
   "execution_count": 34,
   "metadata": {},
   "outputs": [],
   "source": [
    "t = -R*centroid_A + centroid_B\n"
   ]
  },
  {
   "cell_type": "code",
   "execution_count": 43,
   "metadata": {},
   "outputs": [
    {
     "data": {
      "text/plain": [
       "array([[2.41191850e-03, 5.78633176e-02, 8.29638051e-01],\n",
       "       [4.01029559e-02, 6.69495681e-01, 6.61047705e-02],\n",
       "       [8.07951146e-01, 4.67474028e-02, 5.31523376e-05]])"
      ]
     },
     "execution_count": 43,
     "metadata": {},
     "output_type": "execute_result"
    }
   ],
   "source": [
    "R"
   ]
  },
  {
   "cell_type": "code",
   "execution_count": 40,
   "metadata": {},
   "outputs": [
    {
     "data": {
      "text/plain": [
       "array([[-0.04064423, -0.06882704, -0.99680032],\n",
       "       [-0.54752799, -0.83296977,  0.07984016],\n",
       "       [-0.8357997 ,  0.54902112, -0.00382932]])"
      ]
     },
     "execution_count": 40,
     "metadata": {},
     "output_type": "execute_result"
    }
   ],
   "source": [
    "Vt\n",
    "#rigid_t ends here---------------------------------"
   ]
  },
  {
   "cell_type": "code",
   "execution_count": 29,
   "metadata": {},
   "outputs": [],
   "source": [
    "RotMat,TransVec = rigid_transform_3D(argA,argB)"
   ]
  },
  {
   "cell_type": "code",
   "execution_count": 30,
   "metadata": {},
   "outputs": [
    {
     "data": {
      "text/plain": [
       "array([[2.41191850e-03, 5.78633176e-02, 8.29638051e-01],\n",
       "       [4.01029559e-02, 6.69495681e-01, 6.61047705e-02],\n",
       "       [8.07951146e-01, 4.67474028e-02, 5.31523376e-05]])"
      ]
     },
     "execution_count": 30,
     "metadata": {},
     "output_type": "execute_result"
    }
   ],
   "source": [
    "RotMat"
   ]
  },
  {
   "cell_type": "code",
   "execution_count": 203,
   "metadata": {},
   "outputs": [],
   "source": [
    "#Compute displacements between frames (per point)\n",
    "DispVec = data_dict['DIC3DPPresults']['Points3D'][1][0] - data_dict['DIC3DPPresults']['Points3D'][0][0] "
   ]
  },
  {
   "cell_type": "code",
   "execution_count": 271,
   "metadata": {},
   "outputs": [
    {
     "name": "stdout",
     "output_type": "stream",
     "text": [
      "(3, 6978)\n",
      "3\n"
     ]
    }
   ],
   "source": [
    "# this produce same error\n",
    "# done debugging\n",
    "def testfunction(A,B):\n",
    "    #if len(A) == len(B):\n",
    "        #print(\"wellllll\")\n",
    "   # else:\n",
    "       # print(\"wrong\")\n",
    "    print(A.shape)\n",
    "    print(len(B))\n",
    "testfunction(argA,argB)\n"
   ]
  },
  {
   "cell_type": "code",
   "execution_count": 215,
   "metadata": {},
   "outputs": [
    {
     "data": {
      "text/plain": [
       "array([21.12711363, 21.12998768, 21.18308559, 21.30089595, 21.31974562,\n",
       "       21.27991817, 21.33715132, 21.30546194, 21.24607238, 21.31043549])"
      ]
     },
     "execution_count": 215,
     "metadata": {},
     "output_type": "execute_result"
    }
   ],
   "source": [
    "np.sqrt(DispVec[:,0]**2 + DispVec[:,1]**2 + DispVec[:,2]**2)[0:10]"
   ]
  },
  {
   "cell_type": "code",
   "execution_count": 135,
   "metadata": {},
   "outputs": [
    {
     "data": {
      "text/plain": [
       "array([4958, 4957, 4689])"
      ]
     },
     "execution_count": 135,
     "metadata": {},
     "output_type": "execute_result"
    }
   ],
   "source": [
    "#compute face centroids\n",
    "facesPyInt.shape\n",
    "facesPyInt[1,:]"
   ]
  },
  {
   "cell_type": "code",
   "execution_count": 136,
   "metadata": {},
   "outputs": [
    {
     "data": {
      "text/plain": [
       "array([[  8.87010205,  47.95226179, 163.64820456],\n",
       "       [  8.87154231,  47.95528282, 164.5318443 ],\n",
       "       [  9.80990601,  47.78336433, 163.59180251]])"
      ]
     },
     "execution_count": 136,
     "metadata": {},
     "output_type": "execute_result"
    }
   ],
   "source": [
    "data_dict['DIC3DPPresults']['Points3D'][1][0][facesPyInt[1,:]-1]# frist 1: image, second 1: face(to 13368)"
   ]
  },
  {
   "cell_type": "code",
   "execution_count": 147,
   "metadata": {},
   "outputs": [
    {
     "data": {
      "text/plain": [
       "array([  9.18385012,  47.89696964, 163.92395046])"
      ]
     },
     "execution_count": 147,
     "metadata": {},
     "output_type": "execute_result"
    }
   ],
   "source": [
    "meanOfEachLine = data_dict['DIC3DPPresults']['Points3D'][1][0][facesPyInt[1,:]-1].mean(axis = 0) \n",
    "meanOfEachLine"
   ]
  },
  {
   "cell_type": "code",
   "execution_count": 99,
   "metadata": {},
   "outputs": [
    {
     "data": {
      "text/plain": [
       "array([[1.35222278, 1.36593578, 1.29955775],\n",
       "       [0.16628634, 0.16344256, 0.19751639],\n",
       "       [0.16086167, 0.13946344, 0.13863298],\n",
       "       [1.25526403, 1.25750794, 1.28705816],\n",
       "       [0.15405274, 0.17574434, 0.1730297 ],\n",
       "       [0.06320487, 1.52480727, 0.0826026 ],\n",
       "       [0.21619105, 0.21821001, 0.21504012],\n",
       "       [1.27900074, 1.26905087, 1.28909456],\n",
       "       [1.49670128, 1.46146731, 1.46961375],\n",
       "       [1.27959089, 1.23319027, 1.24494115]])"
      ]
     },
     "execution_count": 99,
     "metadata": {},
     "output_type": "execute_result"
    }
   ],
   "source": [
    "#read coorComb\n",
    "DIC3D['corrComb'][0][0][facesPyInt-1] #DIC3D.corrComb{ii}(F); in this case we have 10 instances"
   ]
  },
  {
   "cell_type": "code",
   "execution_count": 71,
   "metadata": {},
   "outputs": [
    {
     "data": {
      "text/plain": [
       "array([1.10297569, 0.20416364, 0.16270319, 1.30087252, 0.18329407,\n",
       "       1.27172527, 0.22074969, 1.27464799, 1.41727779, 1.29572459])"
      ]
     },
     "execution_count": 71,
     "metadata": {},
     "output_type": "execute_result"
    }
   ],
   "source": [
    "x = np.amax(DIC3D['corrComb'][1][0][facesPyInt],1) # find max in each row\n",
    "x"
   ]
  },
  {
   "cell_type": "code",
   "execution_count": 74,
   "metadata": {},
   "outputs": [
    {
     "data": {
      "text/plain": [
       "array([[ 610.,  338.,  339.],\n",
       "       [4958., 4957., 4689.],\n",
       "       [2248., 1977., 1978.],\n",
       "       [2210., 2211., 2480.],\n",
       "       [2011., 2282., 2281.],\n",
       "       [1021., 1022., 1293.],\n",
       "       [4496., 4228., 4497.],\n",
       "       [2469., 2468., 2199.],\n",
       "       [   7.,  279.,  278.],\n",
       "       [ 323.,   52.,  324.]])"
      ]
     },
     "execution_count": 74,
     "metadata": {},
     "output_type": "execute_result"
    }
   ],
   "source": [
    "facesPy"
   ]
  },
  {
   "cell_type": "code",
   "execution_count": null,
   "metadata": {},
   "outputs": [],
   "source": []
  }
 ],
 "metadata": {
  "kernelspec": {
   "display_name": "Python 3",
   "language": "python",
   "name": "python3"
  },
  "language_info": {
   "codemirror_mode": {
    "name": "ipython",
    "version": 3
   },
   "file_extension": ".py",
   "mimetype": "text/x-python",
   "name": "python",
   "nbconvert_exporter": "python",
   "pygments_lexer": "ipython3",
   "version": "3.7.6"
  }
 },
 "nbformat": 4,
 "nbformat_minor": 4
}
