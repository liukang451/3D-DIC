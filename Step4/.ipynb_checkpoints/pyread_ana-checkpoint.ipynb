{
 "cells": [
  {
   "cell_type": "code",
   "execution_count": 1,
   "metadata": {},
   "outputs": [],
   "source": [
    "import mat73\n",
    "import numpy as np\n",
    "#from rigid_transform_3D import rigid_transform_3D"
   ]
  },
  {
   "cell_type": "code",
   "execution_count": 2,
   "metadata": {},
   "outputs": [],
   "source": [
    "data_dict = mat73.loadmat('sample.mat')"
   ]
  },
  {
   "cell_type": "code",
   "execution_count": 3,
   "metadata": {},
   "outputs": [
    {
     "data": {
      "text/plain": [
       "dict_keys(['DIC3DPPresults'])"
      ]
     },
     "execution_count": 3,
     "metadata": {},
     "output_type": "execute_result"
    }
   ],
   "source": [
    "data_dict.keys()"
   ]
  },
  {
   "cell_type": "code",
   "execution_count": 4,
   "metadata": {},
   "outputs": [
    {
     "data": {
      "text/plain": [
       "dict_keys(['AllPairsResults', 'DIC2Dinfo', 'Deform', 'Deform_ARBM', 'Disp', 'FaceCentroids', 'FaceCentroids_ARBM', 'FaceColors', 'FaceCorrComb', 'FaceIsoInd', 'FacePairInds', 'Faces', 'PointPairInds', 'Points3D', 'Points3D_ARBM', 'RBM', 'calibration', 'corrComb', 'distortion', 'pairIndices'])"
      ]
     },
     "execution_count": 4,
     "metadata": {},
     "output_type": "execute_result"
    }
   ],
   "source": [
    "data_dict['DIC3DPPresults'].keys()"
   ]
  },
  {
   "cell_type": "code",
   "execution_count": 5,
   "metadata": {},
   "outputs": [
    {
     "data": {
      "text/plain": [
       "(13368, 3)"
      ]
     },
     "execution_count": 5,
     "metadata": {},
     "output_type": "execute_result"
    }
   ],
   "source": [
    "data_dict['DIC3DPPresults']['Faces'].shape"
   ]
  },
  {
   "cell_type": "code",
   "execution_count": 6,
   "metadata": {},
   "outputs": [],
   "source": [
    "facesPy = data_dict['DIC3DPPresults']['Faces'][:10]"
   ]
  },
  {
   "cell_type": "code",
   "execution_count": 7,
   "metadata": {},
   "outputs": [
    {
     "data": {
      "text/plain": [
       "(10, 3)"
      ]
     },
     "execution_count": 7,
     "metadata": {},
     "output_type": "execute_result"
    }
   ],
   "source": [
    "facesPy.shape"
   ]
  },
  {
   "cell_type": "code",
   "execution_count": 8,
   "metadata": {},
   "outputs": [
    {
     "data": {
      "text/plain": [
       "array([4958., 4957., 4689.])"
      ]
     },
     "execution_count": 8,
     "metadata": {},
     "output_type": "execute_result"
    }
   ],
   "source": [
    "facesPy[1]\n",
    "# an array with float numbers, int needed"
   ]
  },
  {
   "cell_type": "code",
   "execution_count": 9,
   "metadata": {},
   "outputs": [
    {
     "data": {
      "text/plain": [
       "array([4958, 4957, 4689])"
      ]
     },
     "execution_count": 9,
     "metadata": {},
     "output_type": "execute_result"
    }
   ],
   "source": [
    "facesPyInt = facesPy.astype(int)\n",
    "facesPyInt[1]\n",
    "# got int array"
   ]
  },
  {
   "cell_type": "code",
   "execution_count": 10,
   "metadata": {},
   "outputs": [],
   "source": [
    "#sync load file\n",
    "DIC3D = data_dict['DIC3DPPresults']\n",
    "#[todo] save results"
   ]
  },
  {
   "cell_type": "code",
   "execution_count": 11,
   "metadata": {},
   "outputs": [
    {
     "data": {
      "text/plain": [
       "5"
      ]
     },
     "execution_count": 11,
     "metadata": {},
     "output_type": "execute_result"
    }
   ],
   "source": [
    "#get number of images\n",
    "nImages = len(DIC3D['Points3D']) # DIC3D['Points3D'] is a list\n",
    "nImages"
   ]
  },
  {
   "cell_type": "code",
   "execution_count": 12,
   "metadata": {},
   "outputs": [
    {
     "data": {
      "text/plain": [
       "6978"
      ]
     },
     "execution_count": 12,
     "metadata": {},
     "output_type": "execute_result"
    }
   ],
   "source": [
    "#DIC3D['Points3D'] is a list of 5 arrays\n",
    "#DIC3D['Points3D'][0] is a list of 1 array, stand for a image\n",
    "#DIC3D['Points3D'][0][0] is a list sized 6978 in this case\n",
    "len(DIC3D['Points3D'][0][0])"
   ]
  },
  {
   "cell_type": "code",
   "execution_count": 13,
   "metadata": {},
   "outputs": [],
   "source": [
    "#pre-allocate 3D-DIC result variables\n",
    "Points3D_ARBM=[]\n",
    "Disp_DispVec=[]\n",
    "Disp_DispMgn=[]\n",
    "Disp_DispVec_ARBM=[]\n",
    "Disp_DispMgn_ARBM=[]\n",
    "FaceCentroids=[]\n",
    "FaceCentroids_ARBM=[]\n",
    "FaceCorrComb=[]\n",
    "FaceIsoInd=[]\n",
    "RBM_RotMat=[]\n",
    "RBM_TransVec=[]"
   ]
  },
  {
   "cell_type": "code",
   "execution_count": 16,
   "metadata": {},
   "outputs": [],
   "source": [
    "def rigid_transform_3D(argA, argB):\n",
    "    orgA = argA# backup for data after transformation\n",
    "    nanIndexa = np.argwhere(np.isnan(argA))[:,0]\n",
    "    nanIndexb = np.argwhere(np.isnan(argB))[:,0]\n",
    "    nanIndexab = np.concatenate([nanIndexa,nanIndexb])\n",
    "    argA = np.delete(argA, nanIndexab,0)\n",
    "    argB = np.delete(argB, nanIndexab,0)\n",
    "    argA = argA.transpose()  \n",
    "    argB = argB.transpose()\n",
    "    A = np.asmatrix(argA)\n",
    "    B = np.asmatrix(argB)#as required by external file\n",
    "    \n",
    "    # find mean column wise different approach between matlab script\n",
    "    centroid_A = np.mean(A, axis=1)\n",
    "    centroid_B = np.mean(B, axis=1)\n",
    "\n",
    "    # ensure centroids are 3x1 (necessary when A or B are\n",
    "    # numpy arrays instead of numpy matrices)\n",
    "    centroid_A = centroid_A.reshape(-1, 1)\n",
    "    centroid_B = centroid_B.reshape(-1, 1)\n",
    "\n",
    "    # subtract mean\n",
    "    Am = A - centroid_A\n",
    "    Bm = B - centroid_B\n",
    "\n",
    "    H = np.dot(Bm,np.transpose(Am))\n",
    "\n",
    "    # find rotation\n",
    "    U, S, Vt = np.linalg.svd(H)\n",
    "    S_mat = [[1,0,0],[0,1,0],[0,0,np.linalg.det(U*Vt)]]\n",
    "    R = Vt.T * U.T * S_mat\n",
    "    R = R.T\n",
    "\n",
    "    t = -R*centroid_A + centroid_B\n",
    "    P = ((orgA * R.T).T+t).T\n",
    "\n",
    "    return R, t, P"
   ]
  },
  {
   "cell_type": "code",
   "execution_count": 35,
   "metadata": {
    "scrolled": false
   },
   "outputs": [
    {
     "ename": "LinAlgError",
     "evalue": "Last 2 dimensions of the array must be square",
     "output_type": "error",
     "traceback": [
      "\u001b[1;31m---------------------------------------------------------------------------\u001b[0m",
      "\u001b[1;31mLinAlgError\u001b[0m                               Traceback (most recent call last)",
      "\u001b[1;32m<ipython-input-35-b7700d06698c>\u001b[0m in \u001b[0;36m<module>\u001b[1;34m()\u001b[0m\n\u001b[0;32m     37\u001b[0m     \u001b[0mnp\u001b[0m\u001b[1;33m.\u001b[0m\u001b[0masarray\u001b[0m\u001b[1;33m(\u001b[0m\u001b[0mDispVecARBM\u001b[0m\u001b[1;33m)\u001b[0m\u001b[1;33m\u001b[0m\u001b[1;33m\u001b[0m\u001b[0m\n\u001b[0;32m     38\u001b[0m     \u001b[0mDisp_DispVec_ARBM\u001b[0m\u001b[1;33m.\u001b[0m\u001b[0mappend\u001b[0m\u001b[1;33m(\u001b[0m\u001b[0mDispVecARBM\u001b[0m\u001b[1;33m)\u001b[0m\u001b[1;33m\u001b[0m\u001b[1;33m\u001b[0m\u001b[0m\n\u001b[1;32m---> 39\u001b[1;33m     \u001b[0mDisp_DispMgn_ARBM\u001b[0m\u001b[1;33m.\u001b[0m\u001b[0mappend\u001b[0m\u001b[1;33m(\u001b[0m\u001b[0mnp\u001b[0m\u001b[1;33m.\u001b[0m\u001b[0msqrt\u001b[0m\u001b[1;33m(\u001b[0m\u001b[0mDispVecARBM\u001b[0m\u001b[1;33m[\u001b[0m\u001b[1;33m:\u001b[0m\u001b[1;33m,\u001b[0m\u001b[1;36m0\u001b[0m\u001b[1;33m]\u001b[0m\u001b[1;33m**\u001b[0m\u001b[1;36m2\u001b[0m \u001b[1;33m+\u001b[0m \u001b[0mDispVecARBM\u001b[0m\u001b[1;33m[\u001b[0m\u001b[1;33m:\u001b[0m\u001b[1;33m,\u001b[0m\u001b[1;36m1\u001b[0m\u001b[1;33m]\u001b[0m\u001b[1;33m**\u001b[0m\u001b[1;36m2\u001b[0m \u001b[1;33m+\u001b[0m \u001b[0mDispVecARBM\u001b[0m\u001b[1;33m[\u001b[0m\u001b[1;33m:\u001b[0m\u001b[1;33m,\u001b[0m\u001b[1;36m2\u001b[0m\u001b[1;33m]\u001b[0m\u001b[1;33m**\u001b[0m\u001b[1;36m2\u001b[0m\u001b[1;33m)\u001b[0m\u001b[1;33m)\u001b[0m\u001b[1;33m\u001b[0m\u001b[1;33m\u001b[0m\u001b[0m\n\u001b[0m",
      "\u001b[1;32mC:\\Users\\17895\\AppData\\Roaming\\Python\\Python37\\site-packages\\numpy\\matrixlib\\defmatrix.py\u001b[0m in \u001b[0;36m__pow__\u001b[1;34m(self, other)\u001b[0m\n\u001b[0;32m    231\u001b[0m \u001b[1;33m\u001b[0m\u001b[0m\n\u001b[0;32m    232\u001b[0m     \u001b[1;32mdef\u001b[0m \u001b[0m__pow__\u001b[0m\u001b[1;33m(\u001b[0m\u001b[0mself\u001b[0m\u001b[1;33m,\u001b[0m \u001b[0mother\u001b[0m\u001b[1;33m)\u001b[0m\u001b[1;33m:\u001b[0m\u001b[1;33m\u001b[0m\u001b[1;33m\u001b[0m\u001b[0m\n\u001b[1;32m--> 233\u001b[1;33m         \u001b[1;32mreturn\u001b[0m \u001b[0mmatrix_power\u001b[0m\u001b[1;33m(\u001b[0m\u001b[0mself\u001b[0m\u001b[1;33m,\u001b[0m \u001b[0mother\u001b[0m\u001b[1;33m)\u001b[0m\u001b[1;33m\u001b[0m\u001b[1;33m\u001b[0m\u001b[0m\n\u001b[0m\u001b[0;32m    234\u001b[0m \u001b[1;33m\u001b[0m\u001b[0m\n\u001b[0;32m    235\u001b[0m     \u001b[1;32mdef\u001b[0m \u001b[0m__ipow__\u001b[0m\u001b[1;33m(\u001b[0m\u001b[0mself\u001b[0m\u001b[1;33m,\u001b[0m \u001b[0mother\u001b[0m\u001b[1;33m)\u001b[0m\u001b[1;33m:\u001b[0m\u001b[1;33m\u001b[0m\u001b[1;33m\u001b[0m\u001b[0m\n",
      "\u001b[1;32m<__array_function__ internals>\u001b[0m in \u001b[0;36mmatrix_power\u001b[1;34m(*args, **kwargs)\u001b[0m\n",
      "\u001b[1;32mC:\\Users\\17895\\AppData\\Roaming\\Python\\Python37\\site-packages\\numpy\\linalg\\linalg.py\u001b[0m in \u001b[0;36mmatrix_power\u001b[1;34m(a, n)\u001b[0m\n\u001b[0;32m    620\u001b[0m     \u001b[0ma\u001b[0m \u001b[1;33m=\u001b[0m \u001b[0masanyarray\u001b[0m\u001b[1;33m(\u001b[0m\u001b[0ma\u001b[0m\u001b[1;33m)\u001b[0m\u001b[1;33m\u001b[0m\u001b[1;33m\u001b[0m\u001b[0m\n\u001b[0;32m    621\u001b[0m     \u001b[0m_assert_stacked_2d\u001b[0m\u001b[1;33m(\u001b[0m\u001b[0ma\u001b[0m\u001b[1;33m)\u001b[0m\u001b[1;33m\u001b[0m\u001b[1;33m\u001b[0m\u001b[0m\n\u001b[1;32m--> 622\u001b[1;33m     \u001b[0m_assert_stacked_square\u001b[0m\u001b[1;33m(\u001b[0m\u001b[0ma\u001b[0m\u001b[1;33m)\u001b[0m\u001b[1;33m\u001b[0m\u001b[1;33m\u001b[0m\u001b[0m\n\u001b[0m\u001b[0;32m    623\u001b[0m \u001b[1;33m\u001b[0m\u001b[0m\n\u001b[0;32m    624\u001b[0m     \u001b[1;32mtry\u001b[0m\u001b[1;33m:\u001b[0m\u001b[1;33m\u001b[0m\u001b[1;33m\u001b[0m\u001b[0m\n",
      "\u001b[1;32mC:\\Users\\17895\\AppData\\Roaming\\Python\\Python37\\site-packages\\numpy\\linalg\\linalg.py\u001b[0m in \u001b[0;36m_assert_stacked_square\u001b[1;34m(*arrays)\u001b[0m\n\u001b[0;32m    211\u001b[0m         \u001b[0mm\u001b[0m\u001b[1;33m,\u001b[0m \u001b[0mn\u001b[0m \u001b[1;33m=\u001b[0m \u001b[0ma\u001b[0m\u001b[1;33m.\u001b[0m\u001b[0mshape\u001b[0m\u001b[1;33m[\u001b[0m\u001b[1;33m-\u001b[0m\u001b[1;36m2\u001b[0m\u001b[1;33m:\u001b[0m\u001b[1;33m]\u001b[0m\u001b[1;33m\u001b[0m\u001b[1;33m\u001b[0m\u001b[0m\n\u001b[0;32m    212\u001b[0m         \u001b[1;32mif\u001b[0m \u001b[0mm\u001b[0m \u001b[1;33m!=\u001b[0m \u001b[0mn\u001b[0m\u001b[1;33m:\u001b[0m\u001b[1;33m\u001b[0m\u001b[1;33m\u001b[0m\u001b[0m\n\u001b[1;32m--> 213\u001b[1;33m             \u001b[1;32mraise\u001b[0m \u001b[0mLinAlgError\u001b[0m\u001b[1;33m(\u001b[0m\u001b[1;34m'Last 2 dimensions of the array must be square'\u001b[0m\u001b[1;33m)\u001b[0m\u001b[1;33m\u001b[0m\u001b[1;33m\u001b[0m\u001b[0m\n\u001b[0m\u001b[0;32m    214\u001b[0m \u001b[1;33m\u001b[0m\u001b[0m\n\u001b[0;32m    215\u001b[0m \u001b[1;32mdef\u001b[0m \u001b[0m_assert_finite\u001b[0m\u001b[1;33m(\u001b[0m\u001b[1;33m*\u001b[0m\u001b[0marrays\u001b[0m\u001b[1;33m)\u001b[0m\u001b[1;33m:\u001b[0m\u001b[1;33m\u001b[0m\u001b[1;33m\u001b[0m\u001b[0m\n",
      "\u001b[1;31mLinAlgError\u001b[0m: Last 2 dimensions of the array must be square"
     ]
    }
   ],
   "source": [
    "#Calculating displacements and rigid body motion\n",
    "FaceCorrComb=[] #init, or it will append with no limit\n",
    "FaceCentroids=[None]*nImages # declare it with size\n",
    "Disp_DispVec=[]\n",
    "Disp_DispMgn=[]\n",
    "RBM_RotMat=[]\n",
    "RBM_TransVec=[]\n",
    "Points3D_ARBM=[]\n",
    "Disp_DispVec_ARBM=[]\n",
    "Disp_DispMgn_ARBM=[]\n",
    "FaceCentroids_ARBM=[]\n",
    "\n",
    "for image in range(nImages):\n",
    "    #Face correlation coefficient (worst)\n",
    "    FaceCorrComb.append(np.amax(DIC3D['corrComb'][image][0][facesPyInt-1],1))# find max in each row\n",
    "    #Compute face centroids\n",
    "    means = []\n",
    "    for ifaces in range(facesPy.shape[0]):# in shorted version will be 10, full will be 13368  \n",
    "        meanOfEachLine = data_dict['DIC3DPPresults']['Points3D'][image][0][facesPyInt[ifaces,:]-1].mean(axis = 0)\n",
    "        means.append(meanOfEachLine)\n",
    "        FaceCentroids[image] = means\n",
    "    #Compute displacements between frames (per point)\n",
    "    DispVec = data_dict['DIC3DPPresults']['Points3D'][image][0] - data_dict['DIC3DPPresults']['Points3D'][0][0]\n",
    "    Disp_DispVec.append(DispVec)\n",
    "    Disp_DispMgn.append(np.sqrt(DispVec[:,0]**2 + DispVec[:,1]**2 + DispVec[:,2]**2))\n",
    "    \n",
    "    #Compute rigid body transformation between point clouds\n",
    "    refP= data_dict['DIC3DPPresults']['Points3D'][image][0]\n",
    "    truP = data_dict['DIC3DPPresults']['Points3D'][0][0]  \n",
    "    RotMat,TransVec,P = rigid_transform_3D(refP,truP)\n",
    "    RBM_RotMat.append(RotMat)\n",
    "    RBM_TransVec.append(TransVec)\n",
    "    Points3D_ARBM.append(P)\n",
    "    \n",
    "    #Compute displacements between sets - after RBM\n",
    "    DispVecARBM = Points3D_ARBM[image] - Points3D_ARBM[0]\n",
    "    #np.asarray(DispVecARBM)\n",
    "    Disp_DispVec_ARBM.append(DispVecARBM)\n",
    "    #Disp_DispMgn_ARBM.append(np.sqrt(DispVecARBM[:,0]**2 + DispVecARBM[:,1]**2 + DispVecARBM[:,2]**2))"
   ]
  },
  {
   "cell_type": "code",
   "execution_count": 33,
   "metadata": {},
   "outputs": [
    {
     "data": {
      "text/plain": [
       "array([[[ 1.00000000e+00,  6.17877494e-16,  1.05379986e-16],\n",
       "        [-3.24380959e-16,  1.00000000e+00,  3.66349225e-17],\n",
       "        [-2.01360217e-17,  2.77381186e-16,  1.00000000e+00]],\n",
       "\n",
       "       [[ 9.98889057e-01, -4.50026038e-02, -1.39791973e-02],\n",
       "        [ 4.44187088e-02,  9.98228056e-01, -3.95945195e-02],\n",
       "        [ 1.57362834e-02,  3.89295943e-02,  9.99118039e-01]],\n",
       "\n",
       "       [[ 9.99891175e-01, -6.88270699e-04,  1.47365189e-02],\n",
       "        [ 5.22639257e-05,  9.99070093e-01,  4.31155035e-02],\n",
       "        [-1.47524905e-02, -4.31100412e-02,  9.98961405e-01]],\n",
       "\n",
       "       [[ 9.90678239e-01,  7.04748834e-03,  1.36040287e-01],\n",
       "        [-3.79715942e-02,  9.73365191e-01,  2.26093703e-01],\n",
       "        [-1.30823487e-01, -2.29151778e-01,  9.64559318e-01]],\n",
       "\n",
       "       [[ 9.99877293e-01, -9.52143048e-03,  1.24394928e-02],\n",
       "        [ 9.12489967e-03,  9.99460403e-01,  3.15537594e-02],\n",
       "        [-1.27332175e-02, -3.14363784e-02,  9.99424644e-01]]])"
      ]
     },
     "execution_count": 33,
     "metadata": {},
     "output_type": "execute_result"
    }
   ],
   "source": [
    "#DispVecARBM[:,0]\n",
    "np.asarray(RBM_RotMat)"
   ]
  },
  {
   "cell_type": "code",
   "execution_count": 15,
   "metadata": {},
   "outputs": [],
   "source": [
    "#########################################################################\n",
    "#############################draft#############################"
   ]
  },
  {
   "cell_type": "code",
   "execution_count": 16,
   "metadata": {},
   "outputs": [
    {
     "ename": "Exception",
     "evalue": "matrix A is not 3xN, it is 6978x3",
     "output_type": "error",
     "traceback": [
      "\u001b[1;31m---------------------------------------------------------------------------\u001b[0m",
      "\u001b[1;31mException\u001b[0m                                 Traceback (most recent call last)",
      "\u001b[1;32m<ipython-input-16-ec974186df03>\u001b[0m in \u001b[0;36m<module>\u001b[1;34m()\u001b[0m\n\u001b[0;32m      3\u001b[0m [RotMat,TransVec] = rigid_transform_3D(\n\u001b[0;32m      4\u001b[0m                     \u001b[0mdata_dict\u001b[0m\u001b[1;33m[\u001b[0m\u001b[1;34m'DIC3DPPresults'\u001b[0m\u001b[1;33m]\u001b[0m\u001b[1;33m[\u001b[0m\u001b[1;34m'Points3D'\u001b[0m\u001b[1;33m]\u001b[0m\u001b[1;33m[\u001b[0m\u001b[1;36m1\u001b[0m\u001b[1;33m]\u001b[0m\u001b[1;33m[\u001b[0m\u001b[1;36m0\u001b[0m\u001b[1;33m]\u001b[0m\u001b[1;33m,\u001b[0m\u001b[1;33m\u001b[0m\u001b[1;33m\u001b[0m\u001b[0m\n\u001b[1;32m----> 5\u001b[1;33m                     data_dict['DIC3DPPresults']['Points3D'][0][0])\n\u001b[0m",
      "\u001b[1;32mD:\\OneDrive - The University of Western Australia\\Git\\3D-DIC\\Step4\\rigid_transform_3D.py\u001b[0m in \u001b[0;36mrigid_transform_3D\u001b[1;34m(A, B)\u001b[0m\n\u001b[0;32m     16\u001b[0m \u001b[1;33m\u001b[0m\u001b[0m\n\u001b[0;32m     17\u001b[0m     \u001b[1;32mif\u001b[0m \u001b[0mnum_rows\u001b[0m \u001b[1;33m!=\u001b[0m \u001b[1;36m3\u001b[0m\u001b[1;33m:\u001b[0m\u001b[1;33m\u001b[0m\u001b[1;33m\u001b[0m\u001b[0m\n\u001b[1;32m---> 18\u001b[1;33m         \u001b[1;32mraise\u001b[0m \u001b[0mException\u001b[0m\u001b[1;33m(\u001b[0m\u001b[1;34m\"matrix A is not 3xN, it is {}x{}\"\u001b[0m\u001b[1;33m.\u001b[0m\u001b[0mformat\u001b[0m\u001b[1;33m(\u001b[0m\u001b[0mnum_rows\u001b[0m\u001b[1;33m,\u001b[0m \u001b[0mnum_cols\u001b[0m\u001b[1;33m)\u001b[0m\u001b[1;33m)\u001b[0m\u001b[1;33m\u001b[0m\u001b[1;33m\u001b[0m\u001b[0m\n\u001b[0m\u001b[0;32m     19\u001b[0m \u001b[1;33m\u001b[0m\u001b[0m\n\u001b[0;32m     20\u001b[0m     \u001b[1;33m[\u001b[0m\u001b[0mnum_rows\u001b[0m\u001b[1;33m,\u001b[0m \u001b[0mnum_cols\u001b[0m\u001b[1;33m]\u001b[0m \u001b[1;33m=\u001b[0m \u001b[0mB\u001b[0m\u001b[1;33m.\u001b[0m\u001b[0mshape\u001b[0m\u001b[1;33m;\u001b[0m\u001b[1;33m\u001b[0m\u001b[1;33m\u001b[0m\u001b[0m\n",
      "\u001b[1;31mException\u001b[0m: matrix A is not 3xN, it is 6978x3"
     ]
    }
   ],
   "source": [
    "#Compute rigid body transformation between point clouds\n",
    "#error message: matrix A is not 3xN, it is 6978x3\n",
    "[RotMat,TransVec] = rigid_transform_3D(\n",
    "                    data_dict['DIC3DPPresults']['Points3D'][1][0],\n",
    "                    data_dict['DIC3DPPresults']['Points3D'][0][0])"
   ]
  },
  {
   "cell_type": "code",
   "execution_count": 146,
   "metadata": {},
   "outputs": [
    {
     "name": "stdout",
     "output_type": "stream",
     "text": [
      "shape of a is: (3, 6978) b: (3, 6978)\n",
      "<class 'numpy.ndarray'>\n",
      "<class 'numpy.matrix'>\n"
     ]
    }
   ],
   "source": [
    "#change row & column\n",
    "#delete nan before transpose\n",
    "argA = data_dict['DIC3DPPresults']['Points3D'][2][0]\n",
    "nanIndex = np.argwhere(np.isnan(argA))[:,0]\n",
    "#argA = np.delete(argA, nanIndex,0)\n",
    "argA = argA.transpose()\n",
    "argB = data_dict['DIC3DPPresults']['Points3D'][0][0]\n",
    "nanIndex = np.argwhere(np.isnan(argB))[:,0]\n",
    "#argB = np.delete(argB, nanIndex,0)\n",
    "argB = argB.transpose()\n",
    "print(\"shape of a is:\",argA.shape, \"b:\",argB.shape)\n",
    "print(type(argA))\n",
    "argBm = np.asmatrix(argB)\n",
    "print(type(argBm))"
   ]
  },
  {
   "cell_type": "code",
   "execution_count": 159,
   "metadata": {},
   "outputs": [
    {
     "data": {
      "text/plain": [
       "array([], shape=(0, 3), dtype=float64)"
      ]
     },
     "execution_count": 159,
     "metadata": {},
     "output_type": "execute_result"
    }
   ],
   "source": [
    "x = data_dict['DIC3DPPresults']['Points3D'][0][0]\n",
    "nanIndex =  (np.isnan(x))[:,0]\n",
    "x[nanIndex]"
   ]
  },
  {
   "cell_type": "code",
   "execution_count": 131,
   "metadata": {},
   "outputs": [
    {
     "data": {
      "text/plain": [
       "array([], shape=(0, 3), dtype=float64)"
      ]
     },
     "execution_count": 131,
     "metadata": {},
     "output_type": "execute_result"
    }
   ],
   "source": [
    "# nan check\n",
    "x =data_dict['DIC3DPPresults']['Points3D'][4][0]\n",
    "nanIndex = np.argwhere(np.isnan(x))[:,0]\n",
    "x1 = np.delete(x, nanIndex,0)\n",
    "x1[np.argwhere(np.isnan(x1))[:,0]]"
   ]
  },
  {
   "cell_type": "code",
   "execution_count": 68,
   "metadata": {},
   "outputs": [],
   "source": [
    "# try run rigid_t here------------------------\n",
    "# find mean column wise\n",
    "centroid_A = np.mean(argA, axis=1)#\n",
    "centroid_B = np.mean(argBm, axis=1)#array([[  0.64130487], [ 25.41937206], [119.06233202]]) 3*1 shape"
   ]
  },
  {
   "cell_type": "code",
   "execution_count": 69,
   "metadata": {},
   "outputs": [
    {
     "name": "stdout",
     "output_type": "stream",
     "text": [
      "shape of a is: (3,) b: (3, 1)\n",
      "[  0.64130487  25.41937206 119.06233202]\n",
      "[[  0.64130487]\n",
      " [ 25.41937206]\n",
      " [119.06233202]]\n"
     ]
    }
   ],
   "source": [
    "print(\"shape of a is:\",centroid_A.shape, \"b:\",centroid_B.shape)\n",
    "print(centroid_A)\n",
    "print(centroid_B)"
   ]
  },
  {
   "cell_type": "code",
   "execution_count": 70,
   "metadata": {},
   "outputs": [],
   "source": [
    "# ensure centroids are 3x1 (necessary when A or B are\n",
    "# numpy arrays instead of numpy matrices)\n",
    "centroid_A = centroid_A.reshape(-1, 1) # to 3*1 shape\n",
    "centroid_B = centroid_B.reshape(-1, 1)"
   ]
  },
  {
   "cell_type": "code",
   "execution_count": 71,
   "metadata": {},
   "outputs": [],
   "source": [
    "num_rows, num_cols = argA.shape;\n",
    "# subtract mean\n",
    "Am = argA - np.tile(centroid_A, (1, num_cols))\n",
    "Bm = argB - np.tile(centroid_B, (1, num_cols))"
   ]
  },
  {
   "cell_type": "code",
   "execution_count": 55,
   "metadata": {},
   "outputs": [],
   "source": [
    "H = np.dot(Am,np.transpose(Bm))"
   ]
  },
  {
   "cell_type": "code",
   "execution_count": 56,
   "metadata": {},
   "outputs": [],
   "source": [
    "# find rotation\n",
    "U, S, Vt = np.linalg.svd(H)\n",
    "R = Vt.T * U.T"
   ]
  },
  {
   "cell_type": "code",
   "execution_count": 57,
   "metadata": {},
   "outputs": [],
   "source": [
    "t = -R*centroid_A + centroid_B\n"
   ]
  },
  {
   "cell_type": "code",
   "execution_count": 58,
   "metadata": {},
   "outputs": [
    {
     "data": {
      "text/plain": [
       "matrix([[ 0.99888906, -0.0450026 , -0.0139792 ],\n",
       "        [ 0.04441871,  0.99822806, -0.03959452],\n",
       "        [ 0.01573628,  0.03892959,  0.99911804]])"
      ]
     },
     "execution_count": 58,
     "metadata": {},
     "output_type": "execute_result"
    }
   ],
   "source": [
    "R"
   ]
  },
  {
   "cell_type": "code",
   "execution_count": 59,
   "metadata": {},
   "outputs": [
    {
     "data": {
      "text/plain": [
       "matrix([[-0.04064423, -0.06882704, -0.99680032],\n",
       "        [-0.54752799, -0.83296977,  0.07984016],\n",
       "        [-0.8357997 ,  0.54902112, -0.00382932]])"
      ]
     },
     "execution_count": 59,
     "metadata": {},
     "output_type": "execute_result"
    }
   ],
   "source": [
    "Vt\n",
    "#rigid_t ends here---------------------------------"
   ]
  },
  {
   "cell_type": "code",
   "execution_count": 91,
   "metadata": {},
   "outputs": [
    {
     "ename": "LinAlgError",
     "evalue": "SVD did not converge",
     "output_type": "error",
     "traceback": [
      "\u001b[1;31m---------------------------------------------------------------------------\u001b[0m",
      "\u001b[1;31mLinAlgError\u001b[0m                               Traceback (most recent call last)",
      "\u001b[1;32m<ipython-input-91-edd136d6bc8e>\u001b[0m in \u001b[0;36m<module>\u001b[1;34m()\u001b[0m\n\u001b[1;32m----> 1\u001b[1;33m \u001b[0mRotMat\u001b[0m\u001b[1;33m,\u001b[0m\u001b[0mTransVec\u001b[0m \u001b[1;33m=\u001b[0m \u001b[0mrigid_transform_3D\u001b[0m\u001b[1;33m(\u001b[0m\u001b[0margA\u001b[0m\u001b[1;33m,\u001b[0m\u001b[0margBm\u001b[0m\u001b[1;33m)\u001b[0m\u001b[1;33m\u001b[0m\u001b[1;33m\u001b[0m\u001b[0m\n\u001b[0m",
      "\u001b[1;32mD:\\OneDrive - The University of Western Australia\\Git\\3D-DIC\\Step4\\rigid_transform_3D.py\u001b[0m in \u001b[0;36mrigid_transform_3D\u001b[1;34m(A, B)\u001b[0m\n\u001b[0;32m     43\u001b[0m \u001b[1;33m\u001b[0m\u001b[0m\n\u001b[0;32m     44\u001b[0m     \u001b[1;31m# find rotation\u001b[0m\u001b[1;33m\u001b[0m\u001b[1;33m\u001b[0m\u001b[1;33m\u001b[0m\u001b[0m\n\u001b[1;32m---> 45\u001b[1;33m     \u001b[0mU\u001b[0m\u001b[1;33m,\u001b[0m \u001b[0mS\u001b[0m\u001b[1;33m,\u001b[0m \u001b[0mVt\u001b[0m \u001b[1;33m=\u001b[0m \u001b[0mlinalg\u001b[0m\u001b[1;33m.\u001b[0m\u001b[0msvd\u001b[0m\u001b[1;33m(\u001b[0m\u001b[0mH\u001b[0m\u001b[1;33m)\u001b[0m\u001b[1;33m\u001b[0m\u001b[1;33m\u001b[0m\u001b[0m\n\u001b[0m\u001b[0;32m     46\u001b[0m     \u001b[0mR\u001b[0m \u001b[1;33m=\u001b[0m \u001b[0mVt\u001b[0m\u001b[1;33m.\u001b[0m\u001b[0mT\u001b[0m \u001b[1;33m*\u001b[0m \u001b[0mU\u001b[0m\u001b[1;33m.\u001b[0m\u001b[0mT\u001b[0m\u001b[1;33m\u001b[0m\u001b[1;33m\u001b[0m\u001b[0m\n\u001b[0;32m     47\u001b[0m \u001b[1;33m\u001b[0m\u001b[0m\n",
      "\u001b[1;32m<__array_function__ internals>\u001b[0m in \u001b[0;36msvd\u001b[1;34m(*args, **kwargs)\u001b[0m\n",
      "\u001b[1;32mC:\\Users\\17895\\AppData\\Roaming\\Python\\Python37\\site-packages\\numpy\\linalg\\linalg.py\u001b[0m in \u001b[0;36msvd\u001b[1;34m(a, full_matrices, compute_uv, hermitian)\u001b[0m\n\u001b[0;32m   1624\u001b[0m \u001b[1;33m\u001b[0m\u001b[0m\n\u001b[0;32m   1625\u001b[0m         \u001b[0msignature\u001b[0m \u001b[1;33m=\u001b[0m \u001b[1;34m'D->DdD'\u001b[0m \u001b[1;32mif\u001b[0m \u001b[0misComplexType\u001b[0m\u001b[1;33m(\u001b[0m\u001b[0mt\u001b[0m\u001b[1;33m)\u001b[0m \u001b[1;32melse\u001b[0m \u001b[1;34m'd->ddd'\u001b[0m\u001b[1;33m\u001b[0m\u001b[1;33m\u001b[0m\u001b[0m\n\u001b[1;32m-> 1626\u001b[1;33m         \u001b[0mu\u001b[0m\u001b[1;33m,\u001b[0m \u001b[0ms\u001b[0m\u001b[1;33m,\u001b[0m \u001b[0mvh\u001b[0m \u001b[1;33m=\u001b[0m \u001b[0mgufunc\u001b[0m\u001b[1;33m(\u001b[0m\u001b[0ma\u001b[0m\u001b[1;33m,\u001b[0m \u001b[0msignature\u001b[0m\u001b[1;33m=\u001b[0m\u001b[0msignature\u001b[0m\u001b[1;33m,\u001b[0m \u001b[0mextobj\u001b[0m\u001b[1;33m=\u001b[0m\u001b[0mextobj\u001b[0m\u001b[1;33m)\u001b[0m\u001b[1;33m\u001b[0m\u001b[1;33m\u001b[0m\u001b[0m\n\u001b[0m\u001b[0;32m   1627\u001b[0m         \u001b[0mu\u001b[0m \u001b[1;33m=\u001b[0m \u001b[0mu\u001b[0m\u001b[1;33m.\u001b[0m\u001b[0mastype\u001b[0m\u001b[1;33m(\u001b[0m\u001b[0mresult_t\u001b[0m\u001b[1;33m,\u001b[0m \u001b[0mcopy\u001b[0m\u001b[1;33m=\u001b[0m\u001b[1;32mFalse\u001b[0m\u001b[1;33m)\u001b[0m\u001b[1;33m\u001b[0m\u001b[1;33m\u001b[0m\u001b[0m\n\u001b[0;32m   1628\u001b[0m         \u001b[0ms\u001b[0m \u001b[1;33m=\u001b[0m \u001b[0ms\u001b[0m\u001b[1;33m.\u001b[0m\u001b[0mastype\u001b[0m\u001b[1;33m(\u001b[0m\u001b[0m_realType\u001b[0m\u001b[1;33m(\u001b[0m\u001b[0mresult_t\u001b[0m\u001b[1;33m)\u001b[0m\u001b[1;33m,\u001b[0m \u001b[0mcopy\u001b[0m\u001b[1;33m=\u001b[0m\u001b[1;32mFalse\u001b[0m\u001b[1;33m)\u001b[0m\u001b[1;33m\u001b[0m\u001b[1;33m\u001b[0m\u001b[0m\n",
      "\u001b[1;32mC:\\Users\\17895\\AppData\\Roaming\\Python\\Python37\\site-packages\\numpy\\linalg\\linalg.py\u001b[0m in \u001b[0;36m_raise_linalgerror_svd_nonconvergence\u001b[1;34m(err, flag)\u001b[0m\n\u001b[0;32m    104\u001b[0m \u001b[1;33m\u001b[0m\u001b[0m\n\u001b[0;32m    105\u001b[0m \u001b[1;32mdef\u001b[0m \u001b[0m_raise_linalgerror_svd_nonconvergence\u001b[0m\u001b[1;33m(\u001b[0m\u001b[0merr\u001b[0m\u001b[1;33m,\u001b[0m \u001b[0mflag\u001b[0m\u001b[1;33m)\u001b[0m\u001b[1;33m:\u001b[0m\u001b[1;33m\u001b[0m\u001b[1;33m\u001b[0m\u001b[0m\n\u001b[1;32m--> 106\u001b[1;33m     \u001b[1;32mraise\u001b[0m \u001b[0mLinAlgError\u001b[0m\u001b[1;33m(\u001b[0m\u001b[1;34m\"SVD did not converge\"\u001b[0m\u001b[1;33m)\u001b[0m\u001b[1;33m\u001b[0m\u001b[1;33m\u001b[0m\u001b[0m\n\u001b[0m\u001b[0;32m    107\u001b[0m \u001b[1;33m\u001b[0m\u001b[0m\n\u001b[0;32m    108\u001b[0m \u001b[1;32mdef\u001b[0m \u001b[0m_raise_linalgerror_lstsq\u001b[0m\u001b[1;33m(\u001b[0m\u001b[0merr\u001b[0m\u001b[1;33m,\u001b[0m \u001b[0mflag\u001b[0m\u001b[1;33m)\u001b[0m\u001b[1;33m:\u001b[0m\u001b[1;33m\u001b[0m\u001b[1;33m\u001b[0m\u001b[0m\n",
      "\u001b[1;31mLinAlgError\u001b[0m: SVD did not converge"
     ]
    }
   ],
   "source": [
    "RotMat,TransVec = rigid_transform_3D(argA,argBm)"
   ]
  },
  {
   "cell_type": "code",
   "execution_count": 73,
   "metadata": {},
   "outputs": [
    {
     "name": "stdout",
     "output_type": "stream",
     "text": [
      "[[ 1.00000000e+00  7.12971599e-17 -8.10578730e-17]\n",
      " [-6.38875587e-17  1.00000000e+00  3.43774206e-16]\n",
      " [-5.50102670e-17  6.17902485e-17  1.00000000e+00]]\n",
      "[[ 7.99360578e-15]\n",
      " [-3.55271368e-14]\n",
      " [-2.84217094e-14]]\n"
     ]
    }
   ],
   "source": [
    "print(RotMat)\n",
    "print(TransVec)"
   ]
  },
  {
   "cell_type": "code",
   "execution_count": 28,
   "metadata": {},
   "outputs": [],
   "source": [
    "#Compute displacements between frames (per point)\n",
    "DispVec = data_dict['DIC3DPPresults']['Points3D'][1][0] - data_dict['DIC3DPPresults']['Points3D'][0][0] "
   ]
  },
  {
   "cell_type": "code",
   "execution_count": 29,
   "metadata": {},
   "outputs": [
    {
     "name": "stdout",
     "output_type": "stream",
     "text": [
      "(3, 6978)\n",
      "3\n"
     ]
    }
   ],
   "source": [
    "# this produce same error\n",
    "# done debugging\n",
    "def testfunction(A,B):\n",
    "    #if len(A) == len(B):\n",
    "        #print(\"wellllll\")\n",
    "   # else:\n",
    "       # print(\"wrong\")\n",
    "    print(A.shape)\n",
    "    print(len(B))\n",
    "testfunction(argA,argB)\n"
   ]
  },
  {
   "cell_type": "code",
   "execution_count": 30,
   "metadata": {},
   "outputs": [
    {
     "data": {
      "text/plain": [
       "array([21.12711363, 21.12998768, 21.18308559, 21.30089595, 21.31974562,\n",
       "       21.27991817, 21.33715132, 21.30546194, 21.24607238, 21.31043549])"
      ]
     },
     "execution_count": 30,
     "metadata": {},
     "output_type": "execute_result"
    }
   ],
   "source": [
    "np.sqrt(DispVec[:,0]**2 + DispVec[:,1]**2 + DispVec[:,2]**2)[0:10]"
   ]
  },
  {
   "cell_type": "code",
   "execution_count": 31,
   "metadata": {},
   "outputs": [
    {
     "data": {
      "text/plain": [
       "array([4958, 4957, 4689])"
      ]
     },
     "execution_count": 31,
     "metadata": {},
     "output_type": "execute_result"
    }
   ],
   "source": [
    "#compute face centroids\n",
    "facesPyInt.shape\n",
    "facesPyInt[1,:]"
   ]
  },
  {
   "cell_type": "code",
   "execution_count": 32,
   "metadata": {},
   "outputs": [
    {
     "data": {
      "text/plain": [
       "array([[  8.87010205,  47.95226179, 163.64820456],\n",
       "       [  8.87154231,  47.95528282, 164.5318443 ],\n",
       "       [  9.80990601,  47.78336433, 163.59180251]])"
      ]
     },
     "execution_count": 32,
     "metadata": {},
     "output_type": "execute_result"
    }
   ],
   "source": [
    "data_dict['DIC3DPPresults']['Points3D'][1][0][facesPyInt[1,:]-1]# frist 1: image, second 1: face(to 13368)"
   ]
  },
  {
   "cell_type": "code",
   "execution_count": 33,
   "metadata": {},
   "outputs": [
    {
     "data": {
      "text/plain": [
       "array([  9.18385012,  47.89696964, 163.92395046])"
      ]
     },
     "execution_count": 33,
     "metadata": {},
     "output_type": "execute_result"
    }
   ],
   "source": [
    "meanOfEachLine = data_dict['DIC3DPPresults']['Points3D'][1][0][facesPyInt[1,:]-1].mean(axis = 0) \n",
    "meanOfEachLine"
   ]
  },
  {
   "cell_type": "code",
   "execution_count": 34,
   "metadata": {},
   "outputs": [
    {
     "data": {
      "text/plain": [
       "array([[1.35222278, 1.36593578, 1.29955775],\n",
       "       [0.16628634, 0.16344256, 0.19751639],\n",
       "       [0.16086167, 0.13946344, 0.13863298],\n",
       "       [1.25526403, 1.25750794, 1.28705816],\n",
       "       [0.15405274, 0.17574434, 0.1730297 ],\n",
       "       [0.06320487, 1.52480727, 0.0826026 ],\n",
       "       [0.21619105, 0.21821001, 0.21504012],\n",
       "       [1.27900074, 1.26905087, 1.28909456],\n",
       "       [1.49670128, 1.46146731, 1.46961375],\n",
       "       [1.27959089, 1.23319027, 1.24494115]])"
      ]
     },
     "execution_count": 34,
     "metadata": {},
     "output_type": "execute_result"
    }
   ],
   "source": [
    "#read coorComb\n",
    "DIC3D['corrComb'][0][0][facesPyInt-1] #DIC3D.corrComb{ii}(F); in this case we have 10 instances"
   ]
  },
  {
   "cell_type": "code",
   "execution_count": 35,
   "metadata": {},
   "outputs": [
    {
     "data": {
      "text/plain": [
       "array([1.10297569, 0.20416364, 0.16270319, 1.30087252, 0.18329407,\n",
       "       1.27172527, 0.22074969, 1.27464799, 1.41727779, 1.29572459])"
      ]
     },
     "execution_count": 35,
     "metadata": {},
     "output_type": "execute_result"
    }
   ],
   "source": [
    "x = np.amax(DIC3D['corrComb'][1][0][facesPyInt],1) # find max in each row\n",
    "x"
   ]
  },
  {
   "cell_type": "code",
   "execution_count": 36,
   "metadata": {},
   "outputs": [
    {
     "data": {
      "text/plain": [
       "array([[ 610.,  338.,  339.],\n",
       "       [4958., 4957., 4689.],\n",
       "       [2248., 1977., 1978.],\n",
       "       [2210., 2211., 2480.],\n",
       "       [2011., 2282., 2281.],\n",
       "       [1021., 1022., 1293.],\n",
       "       [4496., 4228., 4497.],\n",
       "       [2469., 2468., 2199.],\n",
       "       [   7.,  279.,  278.],\n",
       "       [ 323.,   52.,  324.]])"
      ]
     },
     "execution_count": 36,
     "metadata": {},
     "output_type": "execute_result"
    }
   ],
   "source": [
    "facesPy"
   ]
  },
  {
   "cell_type": "code",
   "execution_count": null,
   "metadata": {},
   "outputs": [],
   "source": []
  }
 ],
 "metadata": {
  "kernelspec": {
   "display_name": "Python 3",
   "language": "python",
   "name": "python3"
  },
  "language_info": {
   "codemirror_mode": {
    "name": "ipython",
    "version": 3
   },
   "file_extension": ".py",
   "mimetype": "text/x-python",
   "name": "python",
   "nbconvert_exporter": "python",
   "pygments_lexer": "ipython3",
   "version": "3.7.6"
  }
 },
 "nbformat": 4,
 "nbformat_minor": 4
}
