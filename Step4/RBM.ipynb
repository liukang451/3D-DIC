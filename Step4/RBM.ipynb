{
 "cells": [
  {
   "cell_type": "code",
   "execution_count": 69,
   "metadata": {},
   "outputs": [
    {
     "data": {
      "text/plain": [
       "5"
      ]
     },
     "execution_count": 69,
     "metadata": {},
     "output_type": "execute_result"
    }
   ],
   "source": [
    "import mat73\n",
    "import numpy as np\n",
    "#from rigid_transform_3D import rigid_transform_3D\n",
    "data_dict = mat73.loadmat('sample.mat')\n",
    "#sync load file\n",
    "DIC3D = data_dict['DIC3DPPresults']\n",
    "#[todo] save results\n",
    "#get number of images\n",
    "nImages = len(DIC3D['Points3D']) # DIC3D['Points3D'] is a list\n",
    "nImages"
   ]
  },
  {
   "cell_type": "code",
   "execution_count": 231,
   "metadata": {},
   "outputs": [],
   "source": [
    "#rbm start\n",
    "RBM_RotMat=[]\n",
    "RBM_TransVec=[]\n",
    "A = data_dict['DIC3DPPresults']['Points3D'][2][0]\n",
    "B = data_dict['DIC3DPPresults']['Points3D'][0][0]\n",
    "nanIndexa = np.argwhere(np.isnan(A))[:,0]\n",
    "nanIndexb = np.argwhere(np.isnan(B))[:,0]\n",
    "nanIndexab = np.concatenate([nanIndexa,nanIndexb])\n",
    "A = np.delete(A, nanIndexab,0)\n",
    "#A = np.nan_to_num(A, nan = 0)# 0 to be discussed\n",
    "B = np.delete(B, nanIndexab,0)\n",
    "A = A.transpose()\n",
    "B = B.transpose()\n",
    "A = np.asmatrix(A)\n",
    "B= np.asmatrix(B)#as required by external file"
   ]
  },
  {
   "cell_type": "code",
   "execution_count": null,
   "metadata": {},
   "outputs": [],
   "source": []
  },
  {
   "cell_type": "code",
   "execution_count": 232,
   "metadata": {},
   "outputs": [
    {
     "data": {
      "text/plain": [
       "matrix([[  1.08601683,   1.17790083,   1.17335975, ..., -28.00418797,\n",
       "         -27.94290666, -28.14586305],\n",
       "        [  0.37478153,   0.54074877,   0.55886914, ...,   6.61693949,\n",
       "           6.68936462,   6.35803317],\n",
       "        [253.67792973, 252.65910624, 251.59241817, ..., -14.2050448 ,\n",
       "         -15.14593095, -16.24460517]])"
      ]
     },
     "execution_count": 232,
     "metadata": {},
     "output_type": "execute_result"
    }
   ],
   "source": [
    "A"
   ]
  },
  {
   "cell_type": "code",
   "execution_count": 233,
   "metadata": {},
   "outputs": [
    {
     "name": "stdout",
     "output_type": "stream",
     "text": [
      "[[  1.23175862]\n",
      " [ 26.35824221]\n",
      " [119.14285012]]\n",
      "[[  0.64643916]\n",
      " [ 25.44187327]\n",
      " [119.15635719]]\n"
     ]
    }
   ],
   "source": [
    "#rbm\n",
    "# find mean column wise different approach between matlab script\n",
    "centroid_A = np.mean(A, axis=1)\n",
    "centroid_B = np.mean(B, axis=1)\n",
    "#approach in matlab script\n",
    "#centroid_A = (1/A.shape[1])*sum(A)\n",
    "#centroid_B = (1/B.shape[1])*sum(B)\n",
    "print(centroid_A)\n",
    "print(centroid_B)"
   ]
  },
  {
   "cell_type": "code",
   "execution_count": 234,
   "metadata": {},
   "outputs": [
    {
     "name": "stdout",
     "output_type": "stream",
     "text": [
      "[[  1.23175862]\n",
      " [ 26.35824221]\n",
      " [119.14285012]]\n",
      "6973\n"
     ]
    }
   ],
   "source": [
    "print(centroid_A)\n",
    "print(A.shape[1])\n",
    "num_cols = A.shape[1]"
   ]
  },
  {
   "cell_type": "code",
   "execution_count": 237,
   "metadata": {},
   "outputs": [
    {
     "name": "stdout",
     "output_type": "stream",
     "text": [
      "(3, 6973) 6973\n"
     ]
    }
   ],
   "source": [
    "centroid_A = centroid_A.reshape(-1, 1)\n",
    "x1 = np.tile(centroid_A, (1, num_cols))\n",
    "print(x1.shape,num_cols)"
   ]
  },
  {
   "cell_type": "code",
   "execution_count": 238,
   "metadata": {},
   "outputs": [
    {
     "name": "stdout",
     "output_type": "stream",
     "text": [
      "[[  0.64643916]\n",
      " [ 25.44187327]\n",
      " [119.15635719]]\n",
      "3\n"
     ]
    }
   ],
   "source": [
    "print(centroid_B)\n",
    "print(B.shape[0])"
   ]
  },
  {
   "cell_type": "code",
   "execution_count": 239,
   "metadata": {},
   "outputs": [
    {
     "name": "stdout",
     "output_type": "stream",
     "text": [
      "[[  0.64643916]\n",
      " [ 25.44187327]\n",
      " [119.15635719]]\n"
     ]
    }
   ],
   "source": [
    "centroid_B = centroid_B.reshape(-1, 1)\n",
    "print(centroid_B)"
   ]
  },
  {
   "cell_type": "code",
   "execution_count": 240,
   "metadata": {},
   "outputs": [
    {
     "data": {
      "text/plain": [
       "matrix([[  0.64643916,   0.64643916,   0.64643916, ...,   0.64643916,\n",
       "           0.64643916,   0.64643916],\n",
       "        [ 25.44187327,  25.44187327,  25.44187327, ...,  25.44187327,\n",
       "          25.44187327,  25.44187327],\n",
       "        [119.15635719, 119.15635719, 119.15635719, ..., 119.15635719,\n",
       "         119.15635719, 119.15635719]])"
      ]
     },
     "execution_count": 240,
     "metadata": {},
     "output_type": "execute_result"
    }
   ],
   "source": [
    "np.tile(centroid_B, (1, num_cols))"
   ]
  },
  {
   "cell_type": "code",
   "execution_count": 241,
   "metadata": {},
   "outputs": [
    {
     "name": "stdout",
     "output_type": "stream",
     "text": [
      "[[-1.45741793e-01 -5.38577984e-02 -5.83988785e-02 ... -2.92359466e+01\n",
      "  -2.91746653e+01 -2.93776217e+01]\n",
      " [-2.59834607e+01 -2.58174934e+01 -2.57993731e+01 ... -1.97413027e+01\n",
      "  -1.96688776e+01 -2.00002090e+01]\n",
      " [ 1.34535080e+02  1.33516256e+02  1.32449568e+02 ... -1.33347895e+02\n",
      "  -1.34288781e+02 -1.35387455e+02]] (3, 6973)\n",
      "[[   0.38962732    0.36508933    0.36457754 ...  -30.37340231\n",
      "   -30.32382755  -30.23213556]\n",
      " [ -23.39251457  -23.4355393   -23.41154122 ...  -23.2071298\n",
      "   -23.13023663  -22.99749412]\n",
      " [ 129.45971269  128.52499008  127.50596017 ... -128.24890738\n",
      "  -129.31509013 -130.3027159 ]] (3, 6973)\n"
     ]
    }
   ],
   "source": [
    "\n",
    "# ensure centroids are 3x1 (necessary when A or B are\n",
    "# numpy arrays instead of numpy matrices)\n",
    "#centroid_A = centroid_A.reshape(-1, 1)\n",
    "#centroid_B = centroid_B.reshape(-1, 1)\n",
    "\n",
    "# subtract mean\n",
    "Am = A - np.tile(centroid_A, (1, num_cols))\n",
    "Bm = B - np.tile(centroid_B, (1, B.shape[1]))\n",
    "#Am = A - centroid_A\n",
    "#Bm = B - centroid_B\n",
    "\n",
    "print(Am,Am.shape)\n",
    "print(Bm,Bm.shape)"
   ]
  },
  {
   "cell_type": "code",
   "execution_count": 243,
   "metadata": {},
   "outputs": [
    {
     "name": "stdout",
     "output_type": "stream",
     "text": [
      "[[ 1622503.53305373  1924428.46460687  1454763.42355229]\n",
      " [ 1951331.40168605  3314188.20514582  2484208.93154535]\n",
      " [  760854.10748827   596006.44128594 39764700.45157298]] (3, 3)\n"
     ]
    }
   ],
   "source": [
    "H = np.dot(Bm,np.transpose(Am))\n",
    "print(H,H.shape)"
   ]
  },
  {
   "cell_type": "code",
   "execution_count": 257,
   "metadata": {},
   "outputs": [
    {
     "name": "stdout",
     "output_type": "stream",
     "text": [
      "[[-0.03848744 -0.54432051 -0.83799397]\n",
      " [-0.06524979 -0.83545656  0.54566913]\n",
      " [-0.99712646  0.07568033 -0.00336221]] \n",
      "----------\n",
      " [[-0.02377656 -0.02217646 -0.9994713 ]\n",
      " [-0.54542141 -0.83756761  0.03155921]\n",
      " [-0.83782466  0.54588342  0.00781896]]\n"
     ]
    }
   ],
   "source": [
    "# sanity check\n",
    "#if linalg.matrix_rank(H) < 3:\n",
    "#    raise ValueError(\"rank of H = {}, expecting 3\".format(linalg.matrix_rank(H)))\n",
    "\n",
    "# find rotation\n",
    "U, S, Vt = np.linalg.svd(H)\n",
    "S_mat = [[1,0,0],[0,1,0],[0,0,np.linalg.det(U*Vt)]]\n",
    "#R = Vt.T * U.T * S_mat\n",
    "\n",
    "\n",
    "    # special reflection case\n",
    "    #if linalg.det(R) < 0:\n",
    "        #print(\"det(R) < R, reflection detected!, correcting for it ...\\n\");\n",
    "        #Vt[2,:] *= -1\n",
    "        #R = Vt.T * U.T\n",
    "print(U,'\\n----------\\n',Vt)"
   ]
  },
  {
   "cell_type": "code",
   "execution_count": 267,
   "metadata": {},
   "outputs": [],
   "source": [
    "R = Vt.T * U.T * S_mat\n",
    "#R = Vt.T * U\n",
    "R = R.T# do not know why but seems that it has to be..."
   ]
  },
  {
   "cell_type": "code",
   "execution_count": 268,
   "metadata": {},
   "outputs": [],
   "source": [
    "t = -R*centroid_A + centroid_B"
   ]
  },
  {
   "cell_type": "code",
   "execution_count": 269,
   "metadata": {},
   "outputs": [
    {
     "name": "stdout",
     "output_type": "stream",
     "text": [
      "[[ 9.99891175e-01 -6.88270699e-04  1.47365189e-02]\n",
      " [ 5.22639257e-05  9.99070093e-01  4.31155035e-02]\n",
      " [-1.47524905e-02 -4.31100412e-02  9.98961405e-01]] \n",
      "----\n",
      " [[-2.32279468]\n",
      " [-6.02882657]\n",
      " [ 1.29172467]]\n"
     ]
    }
   ],
   "source": [
    "print(R,\"\\n----\\n\",t)# same as data in .mat file"
   ]
  },
  {
   "cell_type": "code",
   "execution_count": 284,
   "metadata": {
    "scrolled": true
   },
   "outputs": [
    {
     "data": {
      "text/plain": [
       "matrix([[  4.82397031,  11.31194143, 253.38228276],\n",
       "        [  4.90071616,  11.43383206, 252.35600704],\n",
       "        [  4.88044384,  11.40594455, 251.28971266],\n",
       "        ...,\n",
       "        [-28.21502756,   5.99686508, -14.06241653],\n",
       "        [-28.16766815,   6.02865928, -15.00635178],\n",
       "        [-28.38656505,   5.65025545, -16.0866071 ]])"
      ]
     },
     "execution_count": 284,
     "metadata": {},
     "output_type": "execute_result"
    }
   ],
   "source": [
    "beforT = data_dict['DIC3DPPresults']['Points3D'][2][0]\n",
    "#(beforT * R)+t\n",
    "beforT*R.T"
   ]
  },
  {
   "cell_type": "code",
   "execution_count": 288,
   "metadata": {},
   "outputs": [
    {
     "data": {
      "text/plain": [
       "array([[  1.08601683,   0.37478153, 253.67792973],\n",
       "       [  1.17790083,   0.54074877, 252.65910624],\n",
       "       [  1.17335975,   0.55886914, 251.59241817],\n",
       "       ...,\n",
       "       [-28.00418797,   6.61693949, -14.2050448 ],\n",
       "       [-27.94290666,   6.68936462, -15.14593095],\n",
       "       [-28.14586305,   6.35803317, -16.24460517]])"
      ]
     },
     "execution_count": 288,
     "metadata": {},
     "output_type": "execute_result"
    }
   ],
   "source": [
    "beforT"
   ]
  },
  {
   "cell_type": "code",
   "execution_count": 286,
   "metadata": {
    "scrolled": true
   },
   "outputs": [
    {
     "data": {
      "text/plain": [
       "matrix([[ 2.50117563e+00,  2.57792148e+00,  2.55764915e+00, ...,\n",
       "         -3.05378222e+01, -3.04904628e+01, -3.07093597e+01],\n",
       "        [ 5.28311486e+00,  5.40500549e+00,  5.37711798e+00, ...,\n",
       "         -3.19614855e-02, -1.67285236e-04, -3.78571122e-01],\n",
       "        [ 2.54674007e+02,  2.53647732e+02,  2.52581437e+02, ...,\n",
       "         -1.27706919e+01, -1.37146271e+01, -1.47948824e+01]])"
      ]
     },
     "execution_count": 286,
     "metadata": {},
     "output_type": "execute_result"
    }
   ],
   "source": [
    "(beforT * R.T).T+t"
   ]
  },
  {
   "cell_type": "code",
   "execution_count": 287,
   "metadata": {},
   "outputs": [
    {
     "data": {
      "text/plain": [
       "matrix([[ 2.50117563e+00,  5.28311486e+00,  2.54674007e+02],\n",
       "        [ 2.57792148e+00,  5.40500549e+00,  2.53647732e+02],\n",
       "        [ 2.55764915e+00,  5.37711798e+00,  2.52581437e+02],\n",
       "        ...,\n",
       "        [-3.05378222e+01, -3.19614855e-02, -1.27706919e+01],\n",
       "        [-3.04904628e+01, -1.67285236e-04, -1.37146271e+01],\n",
       "        [-3.07093597e+01, -3.78571122e-01, -1.47948824e+01]])"
      ]
     },
     "execution_count": 287,
     "metadata": {},
     "output_type": "execute_result"
    }
   ],
   "source": [
    "((beforT * R.T).T+t).T# done"
   ]
  }
 ],
 "metadata": {
  "kernelspec": {
   "display_name": "Python 3",
   "language": "python",
   "name": "python3"
  },
  "language_info": {
   "codemirror_mode": {
    "name": "ipython",
    "version": 3
   },
   "file_extension": ".py",
   "mimetype": "text/x-python",
   "name": "python",
   "nbconvert_exporter": "python",
   "pygments_lexer": "ipython3",
   "version": "3.7.6"
  }
 },
 "nbformat": 4,
 "nbformat_minor": 4
}
